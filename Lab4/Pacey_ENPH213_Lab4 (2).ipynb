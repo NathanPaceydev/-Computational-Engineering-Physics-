{
 "cells": [
  {
   "cell_type": "markdown",
   "metadata": {},
   "source": [
    "# ENPH 213 - Week 4 Lab\n",
    "In this lab, we will be working on solving systems of linear equations using the Gaussian Elimination method while continuing to develop your Python skills.\n",
    "\n",
    "When you are finished, please rename this notebook to LastName_ENPH213_Lab4, where LastName is your last name.  Submit that file to onQ.\n",
    "\n",
    "For marking Parts 1-4 will be marked together (Weighted out of 10) and Parts 5 and 6 will be marked together (Weighted out of 5)."
   ]
  },
  {
   "cell_type": "markdown",
   "metadata": {},
   "source": [
    "## Part 1\n",
    "\n",
    "Write a function $GaussPivot(Ab, col)$ that inputs an augmented matrix $Ab$ of an $N \\times N$ matrix/2D array $A$ and vector/2D array $b$ of the size $N \\times 1$.  The $col$ input to the function is the column that of the pivot element to be assessed.  For this Part, the goal is to simulate finding those rows that would need to be pivoted in a Gaussian Elimination procedure, and no \"zeroing\" of columns is needed.  Remember that for a generic column $col$ input, a pivot point of $A_{jj}$ means that the pivot row is the same index as the column being reduced and only rows below $A_{jj}$ need to be considered.\n",
    "\n",
    "Start with the following arrays. \n",
    "\n",
    "$A = \\begin{bmatrix}\n",
    "    10 & 9 & 8 & 7 \\\\\n",
    "    1  & 2 & 3 & 4 \\\\\n",
    "    6  & 6 & 3 & 2 \\\\\n",
    "    1  & 5 & 4 & 7\n",
    "\\end{bmatrix}\n",
    ",\\ \\ \\ b = \\begin{bmatrix}\n",
    "    6  \\\\\n",
    "    5  \\\\\n",
    "    1  \\\\\n",
    "    9  \n",
    "\\end{bmatrix}$\n",
    "\n",
    "When using the augmented matrix $Ab$, the pivoted matrices I calculated are (for $col = 0, 1, 2$)\n",
    "\n",
    "$Ab = \\begin{bmatrix}\n",
    "    10 & 9 & 8 & 7 & 6\\\\\n",
    "    1  & 2 & 3 & 4 & 5\\\\\n",
    "    6  & 6 & 3 & 2 & 1\\\\\n",
    "    1  & 5 & 4 & 7 & 9\n",
    "\\end{bmatrix}\n",
    ",Ab = \\begin{bmatrix}\n",
    "    10 & 9 & 8 & 7 & 6\\\\\n",
    "    6  & 6 & 3 & 2 & 1\\\\\n",
    "    1  & 2 & 3 & 4 & 5\\\\\n",
    "    1  & 5 & 4 & 7 & 9\n",
    "\\end{bmatrix}\n",
    ",Ab = \\begin{bmatrix}\n",
    "    10 & 9 & 8 & 7 & 6\\\\\n",
    "    1  & 2 & 3 & 4 & 5\\\\\n",
    "    1  & 5 & 4 & 7 & 9\\\\\n",
    "    6  & 6 & 3 & 2 & 1\n",
    "\\end{bmatrix}$"
   ]
  },
  {
   "cell_type": "code",
   "execution_count": 1,
   "metadata": {},
   "outputs": [],
   "source": [
    "import numpy as np\n",
    "from matplotlib import pyplot as plt\n",
    "from mpl_toolkits.mplot3d import Axes3D\n",
    "from matplotlib import cm\n",
    "%matplotlib inline"
   ]
  },
  {
   "cell_type": "code",
   "execution_count": 2,
   "metadata": {},
   "outputs": [
    {
     "name": "stdout",
     "output_type": "stream",
     "text": [
      "[[10  9  8  7  6]\n",
      " [ 1  2  3  4  5]\n",
      " [ 6  6  3  2  1]\n",
      " [ 1  5  4  7  9]]\n"
     ]
    }
   ],
   "source": [
    "# initalize the arrays given\n",
    "A = np.array([[10, 9, 8, 7],[1, 2, 3, 4], [6, 6, 3, 2], [1, 5, 4, 7]])\n",
    "b = np.array([[6, 5, 1, 9]])\n",
    "\n",
    "#now get Ab\n",
    "Ab = np.concatenate([A,np.transpose(b)], 1) # addding b to a new col\n",
    "OG = np.copy(Ab) #saving the original array\n",
    "print(Ab) #checking the Ab array"
   ]
  },
  {
   "cell_type": "code",
   "execution_count": 3,
   "metadata": {},
   "outputs": [
    {
     "name": "stdout",
     "output_type": "stream",
     "text": [
      "\n",
      " Pivoting the rows for Ab for Column 0 \n",
      " [[10  9  8  7  6]\n",
      " [ 1  2  3  4  5]\n",
      " [ 6  6  3  2  1]\n",
      " [ 1  5  4  7  9]]\n",
      "\n",
      " Pivoting the rows for Ab for Column 1 \n",
      " [[10  9  8  7  6]\n",
      " [ 6  6  3  2  1]\n",
      " [ 1  2  3  4  5]\n",
      " [ 1  5  4  7  9]]\n",
      "\n",
      " Pivoting the rows for Ab for Column 2 \n",
      " [[10  9  8  7  6]\n",
      " [ 6  6  3  2  1]\n",
      " [ 1  5  4  7  9]\n",
      " [ 1  2  3  4  5]]\n"
     ]
    }
   ],
   "source": [
    "# function for Gauss Pivot\n",
    "def GaussPivot(Ab , col):\n",
    "    #goal is to simulate the rows that need to be pivoted\n",
    "    if ((np.max(Ab[col:,col])) > (Ab[col,col])): # test codition for swapping rows\n",
    "       \n",
    "        Ab[[col,np.argmax(Ab[col:,col]) + col],:] = Ab[[np.argmax(Ab[col:,col]) + col,col], :] #swapping rows\n",
    "        \n",
    "    return Ab\n",
    "\n",
    "\n",
    "    #if(Ab[col][col]<Ab[col][col+1]): \n",
    "        \n",
    "        #Ab[[col,col+1],:] = Ab[[col+1,col],:] \n",
    "        \n",
    "    \n",
    "\n",
    "Ab = OG # setting the array back to it's original form\n",
    "\n",
    "print(\"\\n Pivoting the rows for Ab for Column\",0,\"\\n\",GaussPivot(Ab,0))\n",
    "\n",
    "print(\"\\n Pivoting the rows for Ab for Column\",1,\"\\n\",GaussPivot(Ab,1))\n",
    "\n",
    "print(\"\\n Pivoting the rows for Ab for Column\",2,\"\\n\",GaussPivot(Ab,2))\n"
   ]
  },
  {
   "cell_type": "markdown",
   "metadata": {},
   "source": [
    "## Part 2\n",
    "\n",
    "Write a function GaussElim(Ab, col) that inputs an augmented matrix $Ab$ of an $N \\times N$ matrix/2D array $A$ and vector/2D array $b$ of the size $N \\times 1$.  The $col$ input to the function is the column that of the pivot element, which will have zeros underneath.  For this Part, the goal is to only have zeros under the first pivot element ($A_{00}$), so col = 0.  It does _not_ have to put the matrix in triangular form.  Pivoting should be included in the function using the $GaussPivot(Ab, col)$ function above.\n",
    "\n",
    "When I entered the $Ab$ array from Part 1, I got the result:\n",
    "\n",
    "$Ab = \\begin{bmatrix}\n",
    "    10 & 9 & 8 & 7 & 6\\\\\n",
    "    0  & 1.1 & 2.2 & 3.3 & 4.4 \\\\\n",
    "    0  & 0.6 & -1.8 & -2.2 & -2.6\\\\\n",
    "    0  & 4.1 & 3.2 & 6.3 & 8.4\n",
    "\\end{bmatrix}$"
   ]
  },
  {
   "cell_type": "code",
   "execution_count": 4,
   "metadata": {},
   "outputs": [
    {
     "data": {
      "text/plain": [
       "array([[10.,  9.,  8.,  7.,  6.],\n",
       "       [ 1.,  2.,  3.,  4.,  5.],\n",
       "       [ 6.,  6.,  3.,  2.,  1.],\n",
       "       [ 1.,  5.,  4.,  7.,  9.]])"
      ]
     },
     "execution_count": 4,
     "metadata": {},
     "output_type": "execute_result"
    }
   ],
   "source": [
    "# initalize givens and reset Ab array\n",
    "col = 0\n",
    "\n",
    "Ab = np.concatenate([A,np.transpose(b)], 1) \n",
    "Ab = Ab.astype(float) #setting Ab back to what it was but now floats\n",
    "Ab # test to see if it is correct "
   ]
  },
  {
   "cell_type": "code",
   "execution_count": 5,
   "metadata": {},
   "outputs": [
    {
     "name": "stdout",
     "output_type": "stream",
     "text": [
      "\n",
      " Ab for Column 0 \n",
      " [[10.   9.   8.   7.   6. ]\n",
      " [ 0.   1.1  2.2  3.3  4.4]\n",
      " [ 0.   0.6 -1.8 -2.2 -2.6]\n",
      " [ 0.   4.1  3.2  6.3  8.4]]\n"
     ]
    }
   ],
   "source": [
    "# function to do matrix operations under the pivot\n",
    "\n",
    "def GaussElim(Ab,col):\n",
    "    #call the pivot func\n",
    "    Ab1 = GaussPivot(Ab, col)\n",
    "    Nrows = Ab.shape[0]  # set the bounds of the loop to the rows in the array\n",
    "    \n",
    "    # loop through the array and use the eqn given\n",
    "    # row i = row i - Aij/Ajj * row j\n",
    "    for i in range(col+1, Nrows):\n",
    "       \n",
    "        Ab1[i][:] = Ab1[i][:]-(Ab1[i][col]/(np.copy(Ab1[col][col])))*Ab1[col][:]\n",
    "    \n",
    "    return Ab1\n",
    "\n",
    "\n",
    "print(\"\\n Ab for Column\",0,\"\\n\",GaussElim(Ab,0)) # test func with print\n",
    "\n"
   ]
  },
  {
   "cell_type": "markdown",
   "metadata": {},
   "source": [
    "## Part 3\n",
    "\n",
    "Write a third function UpTriang(A, b) that inputs an $N \\times N$ matrix/2D array $A$ and vector/2D array $b$ of the size $N \\times 1$.  This function should output an augmented matrix in upper triangular form.  In UpTriang(A, b), call the GaussElim(Ab, col) function you created above and index over the appropriate $col$ values.  The $col$ values should not be set, but instead should be derived from the size of $A$.  Using the $A$ and $b$ arrays above, my code generated the following outputs at the next two steps in the elimination process (decimals trucated).\n",
    "\n",
    "$A = \\begin{bmatrix}\n",
    "10 &   9 &  8&  7&    6 \\\\\n",
    "0  &  4.1& 3.2  &6.3  &  8.4  \\\\\n",
    "0  &   0 &  -2.268 & -3.12195 & -3.829268 \\\\\n",
    "0  &   0 &  1.341 &  1.6097 &  2.1463 \n",
    "\\end{bmatrix}$\n",
    "\n",
    "$A = \\begin{bmatrix}\n",
    "10 &   9 &  8&  7&    6 \\\\\n",
    "0  &  4.1& 3.2  &6.3  &  8.4  \\\\\n",
    "0  &   0 &  -2.268 & -3.12195 & -3.829268 \\\\\n",
    "0  &   0 &  0 &  -0.236559 &  -0.11828  \n",
    "\\end{bmatrix}$\n",
    "\n",
    "If everything is working except for your pivoting, then you should see\n",
    "\n",
    "$A = \\begin{bmatrix}\n",
    "10 &   9 &  8&  7&    6 \\\\\n",
    "0  &  1.1& 2.2  &3.3  &  4.4  \\\\\n",
    "0  &   0 &  -3 & -4 & -5 \\\\\n",
    "0  &   0 &  0 & 0.6667 &  0.3333 \n",
    "\\end{bmatrix}$"
   ]
  },
  {
   "cell_type": "code",
   "execution_count": 6,
   "metadata": {},
   "outputs": [],
   "source": [
    "A = np.array([[10, 9, 8, 7],[1, 2, 3, 4], [6, 6, 3, 2], [1, 5, 4, 7]])\n",
    "b = np.array([[6, 5, 1, 9]])\n",
    "\n",
    "A = A.astype(float) #setting Ab back to what it was but now floats\n",
    "b = b.astype(float) #setting Ab back to what it was but now floats"
   ]
  },
  {
   "cell_type": "code",
   "execution_count": 7,
   "metadata": {},
   "outputs": [],
   "source": [
    "\n",
    "def UpTriang(A, b):\n",
    "    \n",
    "    column = A.shape[0] # number of col\n",
    "    \n",
    "    Ab = np.concatenate([np.array(A),np.transpose(np.array(b))], 1) # making the new array with b on A\n",
    "  \n",
    "    copy = np.copy(Ab) # copying the array\n",
    "    \n",
    "    for i in range(column): # looping through the array\n",
    "        copy = GaussElim(copy,i) # calling our elim func for increasing columns\n",
    "        \n",
    "    return copy"
   ]
  },
  {
   "cell_type": "code",
   "execution_count": 8,
   "metadata": {},
   "outputs": [
    {
     "name": "stdout",
     "output_type": "stream",
     "text": [
      "Upper Triangle of Ab\n",
      " [[10.          9.          8.          7.          6.        ]\n",
      " [ 0.          4.1         3.2         6.3         8.4       ]\n",
      " [ 0.          0.          1.34146341  1.6097561   2.14634146]\n",
      " [ 0.          0.          0.         -0.4        -0.2       ]]\n"
     ]
    }
   ],
   "source": [
    "print(\"Upper Triangle of Ab\\n\",UpTriang(A,b)) # test func with print\n"
   ]
  },
  {
   "cell_type": "markdown",
   "metadata": {},
   "source": [
    "## Part 4\n",
    "\n",
    "Finally, write a function $BackSub(A, b)$ that inputs an $N \\times N$ matrix/2D array $A$ and vector/2D array $b$ of the size $N \\times 1$.  This function should call the $UpTriang(A, b)$ function and then use Back Substitution from the lecture to solve the system of equations $\\mathbf{Ax=b}$.  This function should output a 1-D array of values that correspond to the $x_i$ in the $\\mathbf x$ array.  To check your answer, substitute $\\mathbf x$ into $\\mathbf{Ax=b}$ to recover the values in $\\mathbf b$."
   ]
  },
  {
   "cell_type": "code",
   "execution_count": 9,
   "metadata": {},
   "outputs": [],
   "source": [
    "A = np.array([[10, 9, 8, 7],[1, 2, 3, 4], [6, 6, 3, 2], [1, 5, 4, 7]])\n",
    "b = np.array([[6, 5, 1, 9]])\n",
    "A = A.astype(float)\n",
    "b = b.astype(float)"
   ]
  },
  {
   "cell_type": "code",
   "execution_count": 10,
   "metadata": {},
   "outputs": [],
   "source": [
    "# function should output a 1-D array of values that correspond to the xi, in the x array\n",
    "# inputs the A and b arrays\n",
    "# solvs the sytstem of equations using Back Sub\n",
    "\n",
    "def BackSub(A,b):\n",
    "    \n",
    "    upperA = UpTriang(A,b) # call the Uptriangle Func\n",
    "    \n",
    "    for i in range(A.shape[0]): # loop through for num columns\n",
    "        \n",
    "        upperA[i,:] = upperA[i,:]/upperA[i,i]\n",
    "        \n",
    "    copy = np.copy(upperA) # make a copy of array\n",
    "    \n",
    "    # nest for loops to iterate throught the array\n",
    "    for a in range(upperA.shape[0]-1,-1,-1):\n",
    "        \n",
    "        for b in range(a-1,-1,-1):\n",
    "            \n",
    "            copy[b,:] = copy[b,:]-upperA[a,:]*upperA[b,a] # subtract and set new value\n",
    "            \n",
    "            upperA = np.copy(copy)\n",
    "            \n",
    "            newArray = upperA[:,A.shape[0]] \n",
    "    return newArray\n",
    "\n",
    "\n",
    "    "
   ]
  },
  {
   "cell_type": "code",
   "execution_count": 11,
   "metadata": {},
   "outputs": [
    {
     "name": "stdout",
     "output_type": "stream",
     "text": [
      "The Solution for the system of eqns is\n",
      " [-1.   0.5  1.   0.5]\n",
      "\n",
      "The Solution is Correct\n"
     ]
    }
   ],
   "source": [
    "\n",
    "testArray = BackSub(A,b) # check the function by calling it with A and b\n",
    "print(\"The Solution for the system of eqns is\\n\",testArray) # print the result\n",
    "sizeB = np.size(b) # find the size of array b to iterate through\n",
    "check = np.ones(sizeB) # initalize the check array\n",
    "\n",
    "\n",
    "sumb = np.sum(b[0,:]) # taking the sum of b\n",
    "#print(sumb)\n",
    "\n",
    "sumA = np.sum(testArray*A[0:sizeB,:]) # multiplying the result by A, for N rows\n",
    "#print(sumA)\n",
    "\n",
    "# now need to check if there is an actual solution\n",
    "check = sumb - sumA\n",
    "check = check.astype(int)\n",
    "#print(check)\n",
    "\n",
    "# Conditional prints\n",
    "if (check == 0): \n",
    "    print(\"\\nThe Solution is Correct\")\n",
    "else:\n",
    "    print(\"\\nNot a True Soln\")"
   ]
  },
  {
   "cell_type": "markdown",
   "metadata": {},
   "source": [
    "## Part 5\n",
    "\n",
    "You now have all the tools to write a function to return the inverse of a matrix.  Write a function $myInv(A)$ that inputs an $N \\times N$ matrix/2D array $A$ and returns its inverse.  You can work with the array $A$ above, and to verify that your new matrix is indeed the inverse, evaluate $\\mathbf{ A A^{-1} = I}$.\n",
    "\n",
    "Q: If your $\\mathbf{ A A^{-1} = I}$ is not exactly the identity matrix, please explain why?"
   ]
  },
  {
   "cell_type": "code",
   "execution_count": 12,
   "metadata": {},
   "outputs": [
    {
     "name": "stdout",
     "output_type": "stream",
     "text": [
      "A:\n",
      " [[10.  9.  8.  7.]\n",
      " [ 1.  2.  3.  4.]\n",
      " [ 6.  6.  3.  2.]\n",
      " [ 1.  5.  4.  7.]] \n",
      "\n",
      "A^(-1):\n",
      " [[ 1.54545455 -3.45454545 -2.          1.        ]\n",
      " [-1.04545455  1.95454545  1.5        -0.5       ]\n",
      " [-2.18181818  5.81818182  3.         -2.        ]\n",
      " [ 1.77272727 -4.22727273 -2.5         1.5       ]] \n",
      "\n",
      "\n",
      "A*A^(-1):\n",
      " [[ 1.00000000e+00 -5.55111512e-16 -1.33226763e-15 -4.32986980e-15]\n",
      " [ 6.21724894e-15  1.00000000e+00  6.21724894e-15  7.99360578e-15]\n",
      " [-4.44089210e-16 -5.77315973e-15  1.00000000e+00 -1.33226763e-15]\n",
      " [-4.66293670e-15 -2.22044605e-16 -8.88178420e-16  1.00000000e+00]] \n",
      "\n",
      "A*A^(-1) Rounded :\n",
      " [[1 0 0 0]\n",
      " [0 1 0 0]\n",
      " [0 0 1 0]\n",
      " [0 0 0 1]]\n"
     ]
    }
   ],
   "source": [
    "def myInv(A):\n",
    "    N = A.shape\n",
    "    I = np.array(np.zeros(N))\n",
    "    for i in range (N[0]):\n",
    "        I[i,i] = 1\n",
    "    Aup = UpTriang(A,I)\n",
    "    for i in range(N[0]):\n",
    "        Aup[i,:] = Aup[i,:]/Aup[i,i]\n",
    "    Atest = np.copy(Aup)\n",
    "    for x in range(N[0]-1,-1,-1):\n",
    "        for y in range(x-1,-1,-1):\n",
    "            Atest[y,:] = Aup[y,:]-Aup[x,:]*Aup[y,x]\n",
    "            Aup = np.copy(Atest)\n",
    "    return Aup[:,4:]\n",
    "\n",
    "print(\"A:\\n\",A,\"\\n\\nA^(-1):\\n\",myInv(A),\"\\n\\n\")\n",
    "print(\"A*A^(-1):\\n\",np.matmul(myInv(A),A),\"\\n\")\n",
    "\n",
    "# There resultant matrix of A*A^(-1) is not perfectly the identity matrix because rounding errors\n",
    "# populate the zero values with very small values. This noise can be eliminated by rounding the \n",
    "# values to the nearest integer, resulting in the identity matrix\n",
    "Rounded = (np.around(np.matmul(myInv(A),A))).astype(int)\n",
    "print(\"A*A^(-1) Rounded :\\n\",Rounded)"
   ]
  },
  {
   "cell_type": "code",
   "execution_count": 13,
   "metadata": {},
   "outputs": [
    {
     "name": "stdout",
     "output_type": "stream",
     "text": [
      " Originl A array:\n",
      " [[10.  9.  8.  7.]\n",
      " [ 1.  2.  3.  4.]\n",
      " [ 6.  6.  3.  2.]\n",
      " [ 1.  5.  4.  7.]]\n",
      "\n",
      "\n",
      " Array inversed A^(-1):\n",
      " [[ 1.54545455 -3.45454545 -2.          1.        ]\n",
      " [-1.04545455  1.95454545  1.5        -0.5       ]\n",
      " [-2.18181818  5.81818182  3.         -2.        ]\n",
      " [ 1.77272727 -4.22727273 -2.5         1.5       ]]\n",
      "\n",
      " Array Multiplied by inverse:\n",
      " A*A^(-1):\n",
      " [[ 1.00000000e+00 -5.55111512e-16 -1.33226763e-15 -4.32986980e-15]\n",
      " [ 6.21724894e-15  1.00000000e+00  6.21724894e-15  7.99360578e-15]\n",
      " [-4.44089210e-16 -5.77315973e-15  1.00000000e+00 -1.33226763e-15]\n",
      " [-4.66293670e-15 -2.22044605e-16 -8.88178420e-16  1.00000000e+00]] \n",
      "\n",
      "A*A^(-1) Rounded :\n",
      " [[1 0 0 0]\n",
      " [0 1 0 0]\n",
      " [0 0 1 0]\n",
      " [0 0 0 1]]\n"
     ]
    }
   ],
   "source": [
    "# function to return the inverse of an N by N matrix\n",
    "# takes one input, the array\n",
    "def myInv(A):\n",
    "\n",
    "    col = A.shape[0] #number of col\n",
    "       \n",
    "    I_array = np.array(np.zeros(A.shape)) # initalize the inverse array with 0's\n",
    "    \n",
    "    for i in range (col):\n",
    "        I_array[i,i] = 1 # put 1's along the diagonal\n",
    "        \n",
    "    #print(I_array) #test print\n",
    "   \n",
    "    upperA = UpTriang(A,I_array) # call the upper triangle function\n",
    "    \n",
    "    # Now need to take the inverse of the array\n",
    "  \n",
    "    for i in range(col):\n",
    "        upperA[i,:] = upperA[i,:]/upperA[i,i] \n",
    "        \n",
    "    #print(upperA) #test print\n",
    "        \n",
    "    copy = np.copy(upperA) # take the copy of the new array\n",
    "    \n",
    "    for a in range(col-1,-1,-1): # nested loops through the array\n",
    "        \n",
    "        for b in range(a-1,-1,-1):\n",
    "            \n",
    "            copy[b,:] = upperA[b,:]-upperA[a,:]*upperA[b,a]\n",
    "            upperA = np.copy(copy)\n",
    "            \n",
    "    inverse = upperA[:,4:] #take all rows and the col after 4\n",
    "    \n",
    "    return inverse\n",
    "\n",
    "\n",
    "Ab = np.concatenate([A,np.transpose(b)], 1) \n",
    "Ab = Ab.astype(float) #setting Ab back to what it was but now floats\n",
    "Ab # test to see if it is correct \n",
    "\n",
    "print(\" Originl A array:\\n\",A) #checking the Ab array\n",
    "\n",
    "print(\"\\n\\n Array inversed A^(-1):\\n\",myInv(A)) # printing the inverse\n",
    "\n",
    "mul = np.matmul(myInv(A),A) # multiplying the arrays\n",
    "      \n",
    "print(\"\\n Array Multiplied by inverse:\\n A*A^(-1):\\n\",mul,\"\\n\") # printing the exact result\n",
    "\n",
    "# there is a small diference that has to do with the rounding and imerfections of comoutation\n",
    "# by taking the rounded version one can see the function did infact work\n",
    "round = (np.around(mul)).astype(int)\n",
    "\n",
    "print(\"A*A^(-1) Rounded :\\n\",round)"
   ]
  },
  {
   "cell_type": "markdown",
   "metadata": {},
   "source": [
    "## Part 6\n",
    "\n",
    "Write a another function UpTriang2(A, b) that inputs an $N \\times N$ matrix/2D array $A$ and vector/2D array $b$ of the size $N \\times 1$.  This function should output an augmented matrix in upper triangular form.  In UpTriang2(A, b), call the GaussElim(Ab, col) function you created above as you did before, but instead of indexing over the appropriate $col$ values, remove the Row 0 and Column 0 parts of the array to create a slightly smaller array.  [Note, you should store the Row 0 value to create the upper triangular matrix.]  Then run GaussElim(Ab, col), for col=0, on this new smaller array, save Row 0, create a smaller array, and iterate until Gaussian Elimination is complete.  Test you algorithm against the $A$ and $b$ you used above.\n",
    "\n",
    "There is a thought that by working on smaller arrays, this method to create upper triangular matrices could be faster.  Test this idea by creating a large array of $1000 \\times 1000$ random values and create an upper triangular array use the two functions you have created.  Time their performance using the %timeit command before calling the functions. [Note: $b$ will need to be a 2D array of $1 \\times 1000$ elements.  \"Up-Size\" the array by using np.array([np.random.rand(100)]).\n",
    "\n",
    "Q: Briefly discuss which function was faster and hypothesize why.  Also, time your functions for $100 \\times 100$ and $10 \\times 10$ input arrays.  How does the run-time change for changing N?  Does this make sense?  Consider this relative to the approximate number of calculations your function has to do."
   ]
  },
  {
   "cell_type": "code",
   "execution_count": 14,
   "metadata": {},
   "outputs": [
    {
     "name": "stdout",
     "output_type": "stream",
     "text": [
      "Arrays to compare the functions:\n",
      "\tA\n",
      " [[10.  9.  8.  7.]\n",
      " [ 1.  2.  3.  4.]\n",
      " [ 6.  6.  3.  2.]\n",
      " [ 1.  5.  4.  7.]] \n",
      "\n",
      "\tb\n",
      " [[6. 5. 1. 9.]]\n",
      "\n",
      "Computed with the first function\n",
      " [[10.          9.          8.          7.          6.        ]\n",
      " [ 0.          4.1         3.2         6.3         8.4       ]\n",
      " [ 0.          0.          1.34146341  1.6097561   2.14634146]\n",
      " [ 0.          0.          0.         -0.4        -0.2       ]]\n",
      "\n",
      "\n",
      "Computed with the 2nd function\n",
      " [[10.          9.          8.          7.          6.        ]\n",
      " [ 0.          4.1         3.2         6.3         8.4       ]\n",
      " [ 0.          0.          1.34146341  1.6097561   2.14634146]\n",
      " [ 0.          0.          0.         -0.4        -0.2       ]]\n",
      "\n",
      "\n",
      " We can see these are equivalent\n"
     ]
    }
   ],
   "source": [
    "# function to reduce the computing time of UpTriang\n",
    "# does this by sending smaller and smaller arrays to Elim\n",
    "\n",
    "def UpTriang2(A,b):\n",
    "    Ab = np.concatenate([A, np.transpose(b)],1) # reassign array Ab\n",
    "    copy = np.copy(Ab) # make a copy of Ab\n",
    "    \n",
    "    rows = np.zeros(copy.shape) #array of zeros same size and Ab\n",
    "    #print(rows) #test print\n",
    "    \n",
    "    for i in range(copy.shape[0]): # loop through the array\n",
    "        \n",
    "        copy = GaussElim(copy,0) # call the Elim function\n",
    "        \n",
    "        rows[i,i:] = copy[0,:] \n",
    "        \n",
    "        copy = copy[1:,1:] #make the copy a smaller ver of the array to be sent\n",
    "        \n",
    "    return rows\n",
    "\n",
    "# To test this function I compare it's output to that of the previous UpTriang function\n",
    "\n",
    "print(\"Arrays to compare the functions:\\n\\tA\\n\",A,\"\\n\\n\\tb\\n\",b)\n",
    "\n",
    "print(\"\\nComputed with the first function\\n\",UpTriang(A,b))\n",
    "print(\"\\n\\nComputed with the 2nd function\\n\",UpTriang2(A,b))\n",
    "\n",
    "print(\"\\n\\n We can see these are equivalent\")\n"
   ]
  },
  {
   "cell_type": "code",
   "execution_count": 15,
   "metadata": {},
   "outputs": [
    {
     "name": "stdout",
     "output_type": "stream",
     "text": [
      "\n",
      "One can see the Functions are Equal\n"
     ]
    }
   ],
   "source": [
    "# if you dont want to visually compare can use a conditional\n",
    "\n",
    "if (np.array_equal(UpTriang2(A,b),UpTriang(A,b))):\n",
    "    print(\"\\nOne can see the Functions are Equal\")"
   ]
  },
  {
   "cell_type": "code",
   "execution_count": 16,
   "metadata": {},
   "outputs": [],
   "source": [
    "#Now Need to compare the functions big O\n",
    "\n",
    "# can declare random arrays and test the speeds of the 2 functions\n",
    "\n",
    "N = 1000\n",
    "\n",
    "rand1 = np.random.rand(N,N) # random N by N array\n",
    "#print(rand1) #test print\n",
    "\n",
    "R = np.array([np.random.rand(N)]) # random N array\n",
    "#print(R) #test print"
   ]
  },
  {
   "cell_type": "code",
   "execution_count": 17,
   "metadata": {},
   "outputs": [
    {
     "name": "stdout",
     "output_type": "stream",
     "text": [
      "6.9 s ± 702 ms per loop (mean ± std. dev. of 7 runs, 1 loop each)\n"
     ]
    }
   ],
   "source": [
    "%timeit UpTriang(rand1,R) #time of func 1"
   ]
  },
  {
   "cell_type": "code",
   "execution_count": 18,
   "metadata": {},
   "outputs": [
    {
     "name": "stdout",
     "output_type": "stream",
     "text": [
      "5.9 s ± 443 ms per loop (mean ± std. dev. of 7 runs, 1 loop each)\n"
     ]
    }
   ],
   "source": [
    "%timeit UpTriang2(rand1,R) #time of func 2"
   ]
  },
  {
   "cell_type": "code",
   "execution_count": 19,
   "metadata": {},
   "outputs": [],
   "source": [
    "# Now we can test the functions using 100 random points\n",
    "N = 100\n",
    "rand2 = np.random.rand(N,N)\n",
    "R2 = np.array([np.random.rand(N)])"
   ]
  },
  {
   "cell_type": "code",
   "execution_count": 20,
   "metadata": {},
   "outputs": [
    {
     "name": "stdout",
     "output_type": "stream",
     "text": [
      "41.9 ms ± 2.84 ms per loop (mean ± std. dev. of 7 runs, 10 loops each)\n"
     ]
    }
   ],
   "source": [
    "%timeit UpTriang(rand2,R2) # Test func 1"
   ]
  },
  {
   "cell_type": "code",
   "execution_count": 21,
   "metadata": {},
   "outputs": [
    {
     "name": "stdout",
     "output_type": "stream",
     "text": [
      "49.9 ms ± 5.07 ms per loop (mean ± std. dev. of 7 runs, 10 loops each)\n"
     ]
    }
   ],
   "source": [
    "%timeit UpTriang2(rand2,R2) # Test func 2"
   ]
  },
  {
   "cell_type": "code",
   "execution_count": 22,
   "metadata": {},
   "outputs": [],
   "source": [
    "# Now we can test the functions using 10 random points\n",
    "N = 10\n",
    "rand3 = np.random.rand(N,N)\n",
    "R3 = np.array([np.random.rand(N)])"
   ]
  },
  {
   "cell_type": "code",
   "execution_count": 23,
   "metadata": {},
   "outputs": [
    {
     "name": "stdout",
     "output_type": "stream",
     "text": [
      "624 µs ± 53 µs per loop (mean ± std. dev. of 7 runs, 1000 loops each)\n"
     ]
    }
   ],
   "source": [
    "%timeit UpTriang(rand3,R3)"
   ]
  },
  {
   "cell_type": "code",
   "execution_count": 24,
   "metadata": {},
   "outputs": [
    {
     "name": "stdout",
     "output_type": "stream",
     "text": [
      "709 µs ± 64.5 µs per loop (mean ± std. dev. of 7 runs, 1000 loops each)\n"
     ]
    }
   ],
   "source": [
    "%timeit UpTriang2(rand3,R3)"
   ]
  },
  {
   "cell_type": "markdown",
   "metadata": {},
   "source": [
    "Q: Briefly discuss which function was faster and hypothesize why. Also, time your functions for  100×100  and  10×10  input arrays. How does the run-time change for changing N? Does this make sense? Consider this relative to the approximate number of calculations your function has to do\n",
    "\n",
    "A: When handling large matrices, the UpTriang2 function is faster than the UpTriang function since (in the 2nd function) each step reduces the number of computations by taking out unnecessary rows and columns. This is particularly prevalent with very large matrices because the UpTriang2 function performs tens of thousands less calculations in the last few cycles of the loop. The difference in computational time is much smaller for smaller sets of data, as expected. "
   ]
  },
  {
   "cell_type": "markdown",
   "metadata": {},
   "source": [
    "## Acknowledgements\n",
    "\n",
    "Please comment on any help that you received from your group members or others concerning this Lab assignment.\n",
    "\n",
    "Although I wrote all the code myself I discussed the topics with Stuart Gaherty "
   ]
  },
  {
   "cell_type": "markdown",
   "metadata": {},
   "source": []
  }
 ],
 "metadata": {
  "kernelspec": {
   "display_name": "Python 3",
   "language": "python",
   "name": "python3"
  },
  "language_info": {
   "codemirror_mode": {
    "name": "ipython",
    "version": 3
   },
   "file_extension": ".py",
   "mimetype": "text/x-python",
   "name": "python",
   "nbconvert_exporter": "python",
   "pygments_lexer": "ipython3",
   "version": "3.7.6"
  }
 },
 "nbformat": 4,
 "nbformat_minor": 4
}
