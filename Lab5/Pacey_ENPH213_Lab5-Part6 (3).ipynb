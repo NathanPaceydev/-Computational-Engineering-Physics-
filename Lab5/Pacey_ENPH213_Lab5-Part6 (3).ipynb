{
 "cells": [
  {
   "cell_type": "markdown",
   "metadata": {},
   "source": [
    "# ENPH 213 - Week 5 Lab - Part 6\n",
    "\n",
    "In this lab, we will be working on solving non-linear equations using a variety of methods while continuing to develop your Python skills.\n",
    "\n",
    "When you are finished, please rename this notebook to LastName_ENPH213_Lab5-Part6, where LastName is your last name.  Submit that file to onQ along with the notebook for Parts 1-5. \n",
    "\n",
    "For marking Parts 1-4 will be marked together (Weighted out of 10) and Parts 5 and 6 will be marked together (Weighted out of 5)."
   ]
  },
  {
   "cell_type": "code",
   "execution_count": 1,
   "metadata": {},
   "outputs": [],
   "source": [
    "#Importing modules\n",
    "import math as m\n",
    "import numpy as np\n",
    "import cmath as cm\n",
    "from matplotlib import pyplot as plt\n",
    "%matplotlib inline"
   ]
  },
  {
   "cell_type": "markdown",
   "metadata": {},
   "source": [
    "# Part 6\n",
    "\n",
    "Find the roots to following set of functions\n",
    "\n",
    "$\\Large f_1(x,y,z) = 2x - y \\cos z - 3 \\\\\n",
    "\\Large f_2(x,y,z) = x^2 - 25(y - 2)^2 + \\sin z - \\frac{\\pi}{10} \\\\\n",
    "\\Large f_3(x,y,z) = 7xe^y - 17z + 8\\pi$\n",
    "\n",
    "To solve this system of functions, use the generalized Newton's Method as discussed in class.  Use the Jacobian Matrix, and construct it by analytically/symbollically calculating the partial derivatives for its elements.  Iterate the solutions of the matrix equations by adding the evaluated steps back into the previous guess values for $x$, $y$, and $z$.  For this question, you may fulfill the iteration sensitivity when either the total of the step components or the total of the residual function values acheives an error less than 0.00001.\n",
    "\n",
    "Provide the determine roots of the set of functions as well as the number of iterations needed.\n",
    "\n",
    "**Note:** You will need the $BackSub(A, b)$ and related functions from Lab 4 to perform the matrix calculations.  To do this, from your Lab 4 Jupyter notebook, select \"File-->Download as-->Python (.py)\".  Save this file as \"Lab4.py\" in the directory of this notebook.  Then below, add the line \"from Lab4 import BackSub\".  It may load and perform all computations, but you will not have access to your previous functions in this notebook.  If you click on the margin beside this cell, it will reduce in size.  If you double click, it should completely collapse."
   ]
  },
  {
   "cell_type": "markdown",
   "metadata": {},
   "source": [
    "I decided it would be easier to copy and paste the functions from LAB 4 and test them, rather than downloading the lab file."
   ]
  },
  {
   "cell_type": "code",
   "execution_count": 2,
   "metadata": {},
   "outputs": [],
   "source": [
    "def GaussPivot(Ab , col):\n",
    "    #goal is to simulate the rows that need to be pivoted\n",
    "    if ((np.max(Ab[col:,col])) > (Ab[col,col])): # test codition for swapping rows\n",
    "       \n",
    "        Ab[[col,np.argmax(Ab[col:,col]) + col],:] = Ab[[np.argmax(Ab[col:,col]) + col,col], :] #swapping rows\n",
    "        \n",
    "    return Ab"
   ]
  },
  {
   "cell_type": "code",
   "execution_count": 3,
   "metadata": {},
   "outputs": [],
   "source": [
    "def GaussElim(Ab,col):\n",
    "    #call the pivot func\n",
    "    Ab1 = GaussPivot(Ab, col)\n",
    "    Nrows = Ab.shape[0]  # set the bounds of the loop to the rows in the array\n",
    "    \n",
    "    # loop through the array and use the eqn given\n",
    "    # row i = row i - Aij/Ajj * row j\n",
    "    for i in range(col+1, Nrows):\n",
    "       \n",
    "        Ab1[i][:] = Ab1[i][:]-(Ab1[i][col]/(np.copy(Ab1[col][col])))*Ab1[col][:]\n",
    "    \n",
    "    return Ab1"
   ]
  },
  {
   "cell_type": "code",
   "execution_count": 4,
   "metadata": {},
   "outputs": [],
   "source": [
    "def UpTriang(A, b):\n",
    "    \n",
    "    column = A.shape[0] # number of col\n",
    "    \n",
    "    Ab = np.concatenate([np.array(A),np.transpose(np.array(b))], 1) # making the new array with b on A\n",
    "  \n",
    "    copy = np.copy(Ab) # copying the array\n",
    "    \n",
    "    for i in range(column): # looping through the array\n",
    "        copy = GaussElim(copy,i) # calling our elim func for increasing columns\n",
    "        \n",
    "    return copy"
   ]
  },
  {
   "cell_type": "code",
   "execution_count": 5,
   "metadata": {},
   "outputs": [],
   "source": [
    "#Function from Lab 4\n",
    "def BackSub(A,b):\n",
    "    \n",
    "    upperA = UpTriang(A,b) # call the Uptriangle Func\n",
    "    \n",
    "    for i in range(A.shape[0]): # loop through for num columns\n",
    "        \n",
    "        upperA[i,:] = upperA[i,:]/upperA[i,i]\n",
    "        \n",
    "    copy = np.copy(upperA) # make a copy of array\n",
    "    \n",
    "    # nest for loops to iterate throught the array\n",
    "    for a in range(upperA.shape[0]-1,-1,-1):\n",
    "        \n",
    "        for b in range(a-1,-1,-1):\n",
    "            \n",
    "            copy[b,:] = copy[b,:]-upperA[a,:]*upperA[b,a] # subtract and set new value\n",
    "            \n",
    "            upperA = np.copy(copy)\n",
    "            \n",
    "            newArray = upperA[:,A.shape[0]] \n",
    "    return newArray"
   ]
  },
  {
   "cell_type": "code",
   "execution_count": 6,
   "metadata": {},
   "outputs": [
    {
     "name": "stdout",
     "output_type": "stream",
     "text": [
      "The Solution for the system of eqns is\n",
      " [-1.   0.5  1.   0.5]\n",
      "\n",
      "The Solution is Correct, The Code From LAB 4 has been corrected implemented\n"
     ]
    }
   ],
   "source": [
    "# **** Code to test the implementation of the functions written in LAB 4*************\n",
    "\n",
    "A = np.array([[10, 9, 8, 7],[1, 2, 3, 4], [6, 6, 3, 2], [1, 5, 4, 7]])\n",
    "b = np.array([[6, 5, 1, 9]])\n",
    "A = A.astype(float)\n",
    "b = b.astype(float)\n",
    "\n",
    "testArray = BackSub(A,b) # check the function by calling it with A and b\n",
    "print(\"The Solution for the system of eqns is\\n\",testArray) # print the result\n",
    "sizeB = np.size(b) # find the size of array b to iterate through\n",
    "check = np.ones(sizeB) # initalize the check array\n",
    "\n",
    "\n",
    "sumb = np.sum(b[0,:]) # taking the sum of b\n",
    "#print(sumb)\n",
    "\n",
    "sumA = np.sum(testArray*A[0:sizeB,:]) # multiplying the result by A, for N rows\n",
    "#print(sumA)\n",
    "\n",
    "# now need to check if there is an actual solution\n",
    "check = sumb - sumA\n",
    "check = check.astype(int)\n",
    "#print(check)\n",
    "\n",
    "# Conditional prints\n",
    "if (check == 0): \n",
    "    print(\"\\nThe Solution is Correct, The Code From LAB 4 has been corrected implemented\")\n",
    "else:\n",
    "    print(\"\\nNot a True Soln\")"
   ]
  },
  {
   "cell_type": "code",
   "execution_count": 7,
   "metadata": {},
   "outputs": [
    {
     "name": "stdout",
     "output_type": "stream",
     "text": [
      " Test array\n",
      " [[  2.          -0.54030231   0.83875547]\n",
      " [  1.99        50.25         0.54450062]\n",
      " [ 19.0279728   18.93314928 -17.        ]]\n"
     ]
    }
   ],
   "source": [
    "# **NEW CODE FOR LAB 5 PART 6**\n",
    "\n",
    "## Need  to update variable names ect\n",
    "error = 0.00001\n",
    "# the three functions given in the question\n",
    "def f1 (x):\n",
    "    f = 2*x[0] - x[1]*np.cos(x[2]) - 3\n",
    "    return f\n",
    "\n",
    "def f2 (x):    \n",
    "    f = x[0]**2 - 25*(x[1]-2)**2 + np.sin(x[2]) - np.pi/10\n",
    "    return f\n",
    "\n",
    "def f3 (x):    \n",
    "    f = 7*x[0]*np.exp(x[1]) - 17*x[2] + 8*np.pi\n",
    "    return f\n",
    "\n",
    "\n",
    "#function to make an array of the three functions to pass to BackSub\n",
    "def fArray(x):     \n",
    "    farray = -1*np.reshape([f1(x), f2(x), f3(x)],(1,3))\n",
    "    return farray\n",
    "\n",
    "\n",
    "# funtion that takes the partial derivatives of the functions in the array\n",
    "def df (f, x):\n",
    "    step = 0.01 # define the step size\n",
    "    length = len(x) # store the length of x\n",
    "    \n",
    "    identityM = np.zeros((length,length))     # identity Matrix\n",
    "    dervArray = np.zeros((length,length))  # array to store deriv\n",
    "    \n",
    "    for i in range(length): # set diagonals equal to step\n",
    "        identityM[i,i] = step\n",
    "        \n",
    "    for j in range(length):       # put the values into derv array\n",
    "        dervArray[j] = np.array((f(x - identityM[:,j]) - f(x))/step)\n",
    "    \n",
    "    array = np.transpose(dervArray) # fix the position of values\n",
    "    \n",
    "    return array\n",
    "\n",
    "# Test print for the given functions\n",
    "print (\" Test array\\n\",df(fArray, [1,1,1]))"
   ]
  },
  {
   "cell_type": "code",
   "execution_count": 8,
   "metadata": {},
   "outputs": [
    {
     "name": "stdout",
     "output_type": "stream",
     "text": [
      "\n",
      "Took  9 iterations to find the root\n",
      "The calculated roots within 1e-05 error of the true roots are:  [0.53897753 1.93684326 3.01789797]\n"
     ]
    }
   ],
   "source": [
    "# function that takes the function array and a guess of root location and returns roots within error\n",
    "def Newton(f, roots):\n",
    "    i = 0 #create counter\n",
    "    while (np.sum(abs(f(roots))) > error): #while not within the error\n",
    "        \n",
    "        #step for each guess is passed to backsub\n",
    "        step = BackSub(df(f, roots), f(roots))    \n",
    "        roots = roots + step   # add the step to the guess\n",
    "        i = i+1 #increment counter\n",
    "        \n",
    "    print(\"\\nTook \", i,\"iterations to find the root\") \n",
    "    return roots           #returns the roots                 \n",
    "\n",
    "solution = Newton(fArray, [1,1,1])      # call the Newton function\n",
    "print(\"The calculated roots within\",error,\"error of the true roots are: \",solution)"
   ]
  },
  {
   "cell_type": "markdown",
   "metadata": {},
   "source": [
    "## Acknowledgements\n",
    "\n",
    "Please comment on any help that you received from your group members or others concerning this Lab assignment."
   ]
  },
  {
   "cell_type": "markdown",
   "metadata": {},
   "source": [
    "All code was written by Nathan Pacey, however topics were discussed Connor Legg and Stuart Gaherty"
   ]
  },
  {
   "cell_type": "markdown",
   "metadata": {},
   "source": []
  }
 ],
 "metadata": {
  "kernelspec": {
   "display_name": "Python 3",
   "language": "python",
   "name": "python3"
  },
  "language_info": {
   "codemirror_mode": {
    "name": "ipython",
    "version": 3
   },
   "file_extension": ".py",
   "mimetype": "text/x-python",
   "name": "python",
   "nbconvert_exporter": "python",
   "pygments_lexer": "ipython3",
   "version": "3.7.6"
  }
 },
 "nbformat": 4,
 "nbformat_minor": 4
}
