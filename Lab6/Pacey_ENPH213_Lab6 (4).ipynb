{
 "cells": [
  {
   "cell_type": "markdown",
   "metadata": {},
   "source": [
    "# ENPH 213 - Week 6 Lab\n",
    "\n",
    "In this lab, we will be working on interpolating between finite data sets using a variety of different methods while continuing to develop your Python skills.\n",
    "\n",
    "When you are finished, please rename this notebook to LastName_ENPH213_Lab6, where LastName is your last name.  Submit that file to onQ.  Also, include your Lab4.py file (or similar) to ensure that the notebook can run without error.\n",
    "\n",
    "For marking Parts 1-4 will be marked together (Weighted out of 10) and Part 5 will be marked separately (Weighted out of 5)."
   ]
  },
  {
   "cell_type": "code",
   "execution_count": 1,
   "metadata": {},
   "outputs": [],
   "source": [
    "#Import the libraires required for the lab\n",
    "import numpy as np\n",
    "from matplotlib import pyplot as plt\n",
    "from mpl_toolkits.mplot3d import Axes3D\n",
    "from matplotlib import cm\n",
    "%matplotlib inline"
   ]
  },
  {
   "cell_type": "code",
   "execution_count": 2,
   "metadata": {},
   "outputs": [],
   "source": [
    "## code from Lab 4 to implement BackSub\n",
    "# this makes it easier to run one file instead of importing the function which had caused problems\n",
    "\n",
    "def GaussPivot(Ab , col):\n",
    "    #goal is to simulate the rows that need to be pivoted\n",
    "    if ((np.max(Ab[col:,col])) > (Ab[col,col])): # test codition for swapping rows\n",
    "       \n",
    "        Ab[[col,np.argmax(Ab[col:,col]) + col],:] = Ab[[np.argmax(Ab[col:,col]) + col,col], :] #swapping rows\n",
    "        \n",
    "    return Ab\n",
    "\n",
    "def GaussElim(Ab,col):\n",
    "    #call the pivot func\n",
    "    Ab1 = GaussPivot(Ab, col)\n",
    "    Nrows = Ab.shape[0]  # set the bounds of the loop to the rows in the array\n",
    "    \n",
    "    # loop through the array and use the eqn given\n",
    "    # row i = row i - Aij/Ajj * row j\n",
    "    for i in range(col+1, Nrows):\n",
    "       \n",
    "        Ab1[i][:] = Ab1[i][:]-(Ab1[i][col]/(np.copy(Ab1[col][col])))*Ab1[col][:]\n",
    "    \n",
    "    return Ab1\n",
    "\n",
    "def UpTriang(A, b):\n",
    "    \n",
    "    column = A.shape[0] # number of col\n",
    "    \n",
    "    Ab = np.concatenate([np.array(A),np.transpose(np.array(b))], 1) # making the new array with b on A\n",
    "  \n",
    "    copy = np.copy(Ab) # copying the array\n",
    "    \n",
    "    for i in range(column): # looping through the array\n",
    "        copy = GaussElim(copy,i) # calling our elim func for increasing columns\n",
    "        \n",
    "    return copy\n",
    "\n",
    "#Function from Lab 4\n",
    "def BackSub(A,b):\n",
    "    \n",
    "    upperA = UpTriang(A,b) # call the Uptriangle Func\n",
    "    \n",
    "    for i in range(A.shape[0]): # loop through for num columns\n",
    "        \n",
    "        upperA[i,:] = upperA[i,:]/upperA[i,i]\n",
    "        \n",
    "    copy = np.copy(upperA) # make a copy of array\n",
    "    \n",
    "    # nest for loops to iterate throught the array\n",
    "    for a in range(upperA.shape[0]-1,-1,-1):\n",
    "        \n",
    "        for b in range(a-1,-1,-1):\n",
    "            \n",
    "            copy[b,:] = copy[b,:]-upperA[a,:]*upperA[b,a] # subtract and set new value\n",
    "            \n",
    "            upperA = np.copy(copy)\n",
    "            \n",
    "            newArray = upperA[:,A.shape[0]] \n",
    "    return newArray"
   ]
  },
  {
   "cell_type": "markdown",
   "metadata": {},
   "source": [
    "## Part 1\n",
    "\n",
    "Consider the data set consisting of the following $x$-values\n",
    "\n",
    "0.5, 2.6, 3.8, 4.7, 5.6, 7.1, 8.9\n",
    "\n",
    "and the corresponding $y$-values\n",
    "\n",
    "0.01963664, 0.07507309, 0.23405139, 0.29202742, 0.13045487, 0.03839685, 0.01497929\n",
    "\n",
    "Here in Part 1, you will interpolate the data using a polynomial.  Start by ensuring that you know what order of polynomial you should use.  Then, create the matrix that you need to diagonalize, and then call your BackSub(A, b) function from Lab 4 to solve for the polynomial coefficients.\n",
    "\n",
    "For output, plot the interpolated function from $ x = $ 0 to 9.5, along with the points from the data set.  As well, output the interpolated values for the following $x$-values:\n",
    "\n",
    "1.1, 2.2, 3.3, 4.4, 5.5, 6.6, 7.7, 8.8\n",
    "\n",
    "\n",
    "**Note: You will again need your BackSub(A,b) function from Lab 4.  Place the saved Lab4.py file in the same directory as this notebook, and use \"from Lab4 import BackSub\".  Submit the Lab4.py file with this notebook so that it can run when refreshed before marking.**"
   ]
  },
  {
   "cell_type": "code",
   "execution_count": 3,
   "metadata": {},
   "outputs": [
    {
     "name": "stdout",
     "output_type": "stream",
     "text": [
      "The coefficients Array for the given values\n",
      "\n",
      " [-1.39759644e+00  4.47113268e+00 -3.99138122e+00  1.58357912e+00\n",
      " -3.09225127e-01  2.90427475e-02 -1.04674750e-03]\n"
     ]
    }
   ],
   "source": [
    "# declare the given values\n",
    "xValues = [0.5, 2.6, 3.8, 4.7, 5.6, 7.1, 8.9]\n",
    "yValues = [0.01963664, 0.07507309, 0.23405139, 0.29202742, 0.13045487, 0.03839685, 0.01497929]\n",
    "\n",
    "length = len(xValues)   # use a polynomial of length-1 \n",
    "\n",
    "# function to return the coefficients\n",
    "def Coeff(x, y,length):\n",
    "    array = [] # create an empty array\n",
    "\n",
    "    for i in xValues:\n",
    "        for j in range(length):\n",
    "            array.append(i**j)\n",
    "        \n",
    "    #now reshape the array to be n by n (length by length)\n",
    "    A = np.reshape(array,[length,length])\n",
    "\n",
    "    # set b = yValues array\n",
    "    c = BackSub(A,[yValues]) # call the backsub funtion to solve for the coeff\n",
    "    return c\n",
    "\n",
    "\n",
    "print(\"The coefficients Array for the given values\\n\\n\",Coeff(xValues, yValues,length))"
   ]
  },
  {
   "cell_type": "code",
   "execution_count": 4,
   "metadata": {},
   "outputs": [],
   "source": [
    "# function to return a y value using the interpolation of a given x\n",
    "def InterpY (x, y):\n",
    "    \n",
    "    length = len(y) # declare the length of y\n",
    "    c = Coeff(x, y,length) # call the coefficient func\n",
    "    interpY = 0 # initalize as zero\n",
    "    \n",
    "    for i in range(length):\n",
    "        interpY += c[i] * x**i #weighted sum\n",
    "        \n",
    "    return interpY"
   ]
  },
  {
   "cell_type": "code",
   "execution_count": 5,
   "metadata": {},
   "outputs": [
    {
     "name": "stdout",
     "output_type": "stream",
     "text": [
      "The given data\n",
      "Given x [0.5, 2.6, 3.8, 4.7, 5.6, 7.1, 8.9]\n",
      "Given y [0.01963664, 0.07507309, 0.23405139, 0.29202742, 0.13045487, 0.03839685, 0.01497929] \n",
      "\n",
      "Interpolation of given points\n",
      "Given x [1.1 2.2 3.3 4.4 5.5 6.6 7.7 8.8]\n",
      "Given y [ 0.39100478  0.11685285  0.14257795  0.29797831  0.15497775 -0.03256824\n",
      "  0.27578206  0.17655975] \n",
      "\n"
     ]
    },
    {
     "data": {
      "image/png": "[encoded data removed]",
      "text/plain": [
       "<Figure size 432x288 with 1 Axes>"
      ]
     },
     "metadata": {
      "needs_background": "light"
     },
     "output_type": "display_data"
    }
   ],
   "source": [
    "# given points\n",
    "print(\"The given data\")    # test prints\n",
    "print(\"Given x\",xValues)\n",
    "print(\"Given y\",yValues,\"\\n\")\n",
    "\n",
    "plt.plot(xValues, yValues, 'go', label = 'Given Data set', markersize = 4) # plot the given points\n",
    "\n",
    "xPlot = np.linspace(0,9.5,100) # x-range for the function\n",
    "yPlot = InterpY(xPlot,yValues) # find the interpolation for each x\n",
    "plt.plot(xPlot,yPlot,label = 'Interpolation Function',linewidth = 1) # plot the determined function\n",
    "\n",
    "interpX  = np.array([1.1, 2.2, 3.3, 4.4, 5.5, 6.6, 7.7, 8.8]) # given x points\n",
    "polyY = InterpY(interpX, yValues) # y values using the interpolation of each x\n",
    "plt.plot(interpX, polyY, 'r*', label = 'Interpolation of points', markersize = 4) # plot the interpolated points\n",
    "\n",
    "print(\"Interpolation of given points\")    # test prints to check that the plot makes sense\n",
    "print(\"Given x\",interpX)\n",
    "print(\"Given y\",polyY,\"\\n\")\n",
    "\n",
    "plt.title(\"Interpolation of Data using a Polynomial\")\n",
    "plt.xlabel(\"X values\")\n",
    "plt.ylabel(\"Y values\")\n",
    "\n",
    "plt.legend(bbox_to_anchor=(1.0, 0.5))\n",
    "plt.show()\n"
   ]
  },
  {
   "cell_type": "markdown",
   "metadata": {},
   "source": [
    "# Part 2\n",
    "\n",
    "Use the same (x,y) dataset from Part 1.\n",
    "\n",
    "Here in Part 2, you will interpolate the data using Lagrange functions.  Start by ensuring that you know what order of polynomial you should use.  Then, create a function that can calculate the Lagrange function at a particular $x$ and $k$.  Use that function with appropriate coefficients in a sum to calculate the requested output.\n",
    "\n",
    "For output, plot the interpolated function from 0 to 9.5, along with the points from the data set.  As well, output the interpolated values for the following $x$-values:\n",
    "\n",
    "1.1, 2.2, 3.3, 4.4, 5.5, 6.6, 7.7, 8.8"
   ]
  },
  {
   "cell_type": "code",
   "execution_count": 6,
   "metadata": {},
   "outputs": [
    {
     "name": "stdout",
     "output_type": "stream",
     "text": [
      "Given Values\n",
      "The x values [0.5, 2.6, 3.8, 4.7, 5.6, 7.1, 8.9] \n",
      "The y values [0.01963664, 0.07507309, 0.23405139, 0.29202742, 0.13045487, 0.03839685, 0.01497929]\n"
     ]
    },
    {
     "data": {
      "image/png": "[encoded data removed]",
      "text/plain": [
       "<Figure size 432x288 with 1 Axes>"
      ]
     },
     "metadata": {
      "needs_background": "light"
     },
     "output_type": "display_data"
    },
    {
     "name": "stdout",
     "output_type": "stream",
     "text": [
      "Interpolation of given points\n",
      "Given x [1.1 2.2 3.3 4.4 5.5 6.6 7.7 8.8]\n",
      "Given y [0.3910047834737179, 0.11685285162994921, 0.14257794788882586, 0.2979783070719154, 0.1549777518209314, -0.03256823983759926, 0.27578205962826846, 0.1765597479324404] \n",
      "\n"
     ]
    }
   ],
   "source": [
    "# same x and y values\n",
    "\n",
    "print(\"Given Values\\nThe x values\",xValues,\"\\nThe y values\",yValues)\n",
    "\n",
    "# Lagrange funtion\n",
    "def Lagrange(x, X, Lnum):      \n",
    "    top = 1  # initalize the top and bottom as 1\n",
    "    bottom = 1\n",
    "    \n",
    "    #iterate throught the Lagrangian eqn\n",
    "    for i in range(len(x)):\n",
    "        \n",
    "        if (x[Lnum]-x[i]!=0): # coditionals of the lagrange\n",
    "            top *= (X - x[i]) # calculate the top of the Langrange\n",
    "            bottom *= (x[Lnum] - x[i]) # calculate the bottom\n",
    "            \n",
    "    Lag = top/bottom # divide the top by bottom\n",
    "    return Lag\n",
    "\n",
    "# need a funtion to sum the Langrange for all its k values\n",
    "def SumLag(x, y, X):\n",
    "    Sum = 0\n",
    "    #iterate through the length of y and add each Lagrange to the sum\n",
    "    for j in range(len(y)): \n",
    "        Sum += y[j] * Lagrange(x, X, j)\n",
    "        \n",
    "    return Sum    \n",
    "\n",
    "#function to calculate a new y value for each x\n",
    "def interpL(xPoints,x,y):\n",
    "    newY = []\n",
    "    for i in xPoints:\n",
    "        newY.append(SumLag(x,y,i))\n",
    "    return newY\n",
    "\n",
    "\n",
    "plt.plot(xValues, yValues, 'go', label = \"Given Data\", markersize = 4)    # Plot the initial values\n",
    "\n",
    "yPlot = interpL(xPlot,xValues,yValues) # set y to the the interp function for each x\n",
    "plt.plot(xPlot, yPlot, label = \"Interpolation Function\")  # Plot the interpolation function over x-range\n",
    "\n",
    "LagY = interpL(interpX,xValues,yValues) # find the interp of the given x's\n",
    "plt.plot(interpX, LagY, 'r*', label = \"Interpolation of given points\", markersize = 4)\n",
    "\n",
    "# plot headers legend and axis titles\n",
    "plt.title(\"Lagrangian Data Interpolation\")     \n",
    "plt.xlabel(\"X Vaues\")\n",
    "plt.ylabel(\"Y Values\")\n",
    "plt.legend(bbox_to_anchor=(1.0, 0.5));\n",
    "plt.show()\n",
    "\n",
    "print(\"Interpolation of given points\")    # test prints to check that the plot makes sense\n",
    "print(\"Given x\",interpX)\n",
    "print(\"Given y\",LagY,\"\\n\")\n"
   ]
  },
  {
   "cell_type": "markdown",
   "metadata": {},
   "source": [
    "# Part 3\n",
    "\n",
    "Use the same (x,y) dataset from Part 1.\n",
    "\n",
    "Here in Part 3, you will interpolate the data using the cubic Spline method.  Start by ensuring that you know what size of matrix you should use (this is particularly important for this method).  Then, poplulate the matrix with the tri-diagonal elements.  Once completed, use your BackSub(A, b) function from Lab 4 to solve for the polynomial coefficients.  Use the coefficients to calculate the interpolated function in the different regions.\n",
    "\n",
    "As above, plot the interpolated function from 0 to 9.5, along with the points from the data set. Ensure that all output is consistent with the method.  As well, output the interpolated values for the following $x$-values:\n",
    "\n",
    "1.1, 2.2, 3.3, 4.4, 5.5, 6.6, 7.7, 8.8"
   ]
  },
  {
   "cell_type": "code",
   "execution_count": 7,
   "metadata": {},
   "outputs": [
    {
     "name": "stdout",
     "output_type": "stream",
     "text": [
      "Given Values\n",
      "The x values [0.5, 2.6, 3.8, 4.7, 5.6, 7.1, 8.9] \n",
      "The y values [0.01963664, 0.07507309, 0.23405139, 0.29202742, 0.13045487, 0.03839685, 0.01497929] \n",
      "with a length: 7\n",
      "\n",
      "The coffiecents generated using the given data set\n",
      " [ 0.          0.10151742 -0.02792779 -0.45878758  0.23679233 -0.00985075\n",
      "  0.        ]\n"
     ]
    }
   ],
   "source": [
    "# same x and y values\n",
    "print(\"Given Values\\nThe x values\",xValues,\"\\nThe y values\",yValues,\"\\nwith a length:\",length)\n",
    "\n",
    "# make a function to determine the coefficients\n",
    "def SplineCoeff(x,y):\n",
    "    \n",
    "    length = len(x)\n",
    "    # declare an array size (length-2)x(length-2)\n",
    "    array = np.array(np.zeros((length-2,length-2)))\n",
    "    \n",
    "    for i in range (length-2): \n",
    "        array[i,i] = 2*(x[i+2] - x[i])\n",
    "        if ( i == length -3) : break\n",
    "        array[i+1,i] = (x[i+2] - x[i+1])\n",
    "        array[i,i+1] = (x[i+2] - x[i+1])\n",
    "\n",
    "    #print(\"\\ntri-diagonal array\\n\",array) # test print for the tri-diagonal elements\n",
    "    \n",
    "    bArray = np.array([np.zeros(length-2)]) #1D array b\n",
    "    \n",
    "    for j in range (1, length-1):\n",
    "        bArray[0, j-1] = 6 * ((y[j+1] - y[j])/(x[j+1] - x[j]) - (y[j] - y[j-1])/(x[j] - x[j-1]))\n",
    "    \n",
    "    #print(\"\\nB array\\n\",bArray) # test print\n",
    "    coefficients = np.zeros(length) # declare the coeff array to fill\n",
    "    \n",
    "    for i in range (1, length-1):\n",
    "        coefficients[i] = BackSub(array, bArray)[i-1] # call the BackSub function with the new arrays\n",
    "        \n",
    "    return coefficients\n",
    "\n",
    "coeffs = SplineCoeff(xValues,yValues)\n",
    "print(\"\\nThe coffiecents generated using the given data set\\n\",coeffs)"
   ]
  },
  {
   "cell_type": "code",
   "execution_count": 8,
   "metadata": {},
   "outputs": [],
   "source": [
    "xValues = np.array([0.5, 2.6, 3.8, 4.7, 5.6, 7.1, 8.9])\n",
    "yValues = np.array([0.01963664, 0.07507309, 0.23405139, 0.29202742, 0.13045487, 0.03839685, 0.01497929])\n",
    "    \n",
    "# function to interpolated the given x - y data and return a cubic fit    \n",
    "def Spline(x, y, X):\n",
    "    # length of data\n",
    "    nx = len(x)\n",
    "    NX = len(X)\n",
    "    \n",
    "    #Test variables depending on conditionals\n",
    "    high = -1\n",
    "    low = -1\n",
    "    \n",
    "    c = SplineCoeff(x,y) # the the coeff function set to coeff\n",
    "    #print(c) #test print\n",
    "\n",
    "    Spline = [] #array to hold the interpolations\n",
    "    interpA = [] # empty array to return interplated values\n",
    "\n",
    "    i = 0\n",
    "    \n",
    "    for j in range (NX):\n",
    "      \n",
    "        if (X[j] < x[0]): \n",
    "            low = j # set the low counter to the index j, until it is the highest value below the range\n",
    "            \n",
    "        if ((X[j] > x[i+1]) and (i < nx-2)): \n",
    "            i += 1   # update the threshold if it is not at the current instance\n",
    "            \n",
    "        if (X[j] >= x[i]) and (X[j] <= x[i+1]): # condition for threshold met at current index\n",
    "            \n",
    "            # calculate the interpolation\n",
    "            Yterm = y[i]*((x[i+1] - X[j])/(x[i+1] - x[i])) + y[i+1]*((X[j]-x[i])/(x[i + 1] - x[i]))\n",
    "            \n",
    "            coeff1 = ((x[i+1] - x[i])*(x[i + 1] - X[j]) - (x[i+1] - X[j])**3/(x[i+1] - x[i]))*-(c[i]/6)\n",
    "            \n",
    "            coeff2 = ((x[i+1] - x[i])*(X[j] - x[i]) - (X[j] - x[i])**3/(x[i+1] - x[i]))*-(c[i+1]/6)\n",
    "            \n",
    "            Spline.append(Yterm + coeff1 + coeff2) # update the spline array with the threshold data\n",
    "     \n",
    "        if (X[j] > x[-1]):  # if the range is exceed set the high counter to the j index and break\n",
    "            high = j\n",
    "            break  \n",
    "       \n",
    "  \n",
    "    if low > -1:   # if conditions met extend the range and add the lowest slopes\n",
    "        minArray = [] # declare an empty array for mins\n",
    "        minMult = (Spline[1] - Spline[0])/(X[low + 2] - X[low + 1])\n",
    "        \n",
    "        for j in range (low): \n",
    "            minArray.append(Spline[0] + (X[j] - X[low + 1])*minMult)\n",
    "            \n",
    "        for a in minArray: \n",
    "            interpA.append(a)\n",
    "    \n",
    "    for b in Spline: \n",
    "        interpA.append(b)  # Add all values within the range\n",
    "    \n",
    "    if high > -1:   # if the range is exceed (higher) add the hightest slopes to infer higher vals\n",
    "        maxArray = [] # empty array for max\n",
    "        maxMult = (Spline[-1] - Spline[-2])/(X[high - 1] - X[high - 2])\n",
    "        \n",
    "        for j in range (high-1, NX): \n",
    "            maxArray.append(Spline[-1] + (X[j] - X[high - 1])*maxMult)\n",
    "            \n",
    "        for a in maxArray: \n",
    "            interpA.append(a)\n",
    "    \n",
    "    #if (low == -1 and high == -1):\n",
    "        #print(\"conditions not met!\") # test the counters\n",
    "            \n",
    "    return interpA     # return the complete array of interpolated values\n"
   ]
  },
  {
   "cell_type": "code",
   "execution_count": 9,
   "metadata": {},
   "outputs": [
    {
     "data": {
      "image/png": "[encoded data removed]",
      "text/plain": [
       "<Figure size 432x288 with 1 Axes>"
      ]
     },
     "metadata": {
      "needs_background": "light"
     },
     "output_type": "display_data"
    },
    {
     "name": "stdout",
     "output_type": "stream",
     "text": [
      "Interpolation of given points\n",
      "\n",
      "Given x [1.1 2.2 3.3 4.4 5.5 6.6 7.7 8.8]\n",
      "Interpolated y [0.01589726558771072, 0.043694637562052406, 0.16200058636326656, 0.29675856728767197, 0.14924056982417114, 0.044140757175081376, 0.03256114678178771, 0.016574875966288927] \n",
      "\n"
     ]
    }
   ],
   "source": [
    "plt.plot(xValues, yValues, 'go', label = \"Given Values\", markersize = 4)         # Plot the given values\n",
    "\n",
    "xPlot = np.linspace(0, 9.5, 1000)\n",
    "yPlot = Spline(xValues, yValues, xPlot)   \n",
    "plt.plot(xPlot, yPlot,\"c\", label = \"Interpolation\", lw = 1)    # plot the interpolation function\n",
    "\n",
    "splineY = Spline(xValues, yValues, interpX)\n",
    "plt.plot(interpX, splineY, 'r*', label = \"Interpolation of given points\", markersize = 4) # plot the interpolation points\n",
    "\n",
    "#plot heading and title\n",
    "plt.title(\"Cubic Spline Interpolation of Data\")\n",
    "plt.xlabel(\"X Values\")\n",
    "plt.ylabel(\"Y Values\")\n",
    "plt.legend(bbox_to_anchor=(1.0, 0.5)); #legend outside of plot\n",
    "plt.show()\n",
    "\n",
    "print(\"Interpolation of given points\\n\")    # test prints to check that the plot makes sense\n",
    "print(\"Given x\",interpX)\n",
    "print(\"Interpolated y\",splineY,\"\\n\")"
   ]
  },
  {
   "cell_type": "markdown",
   "metadata": {},
   "source": [
    "# Part 4\n",
    "\n",
    "Use the same (x,y) dataset from Part 1.\n",
    "\n",
    "Here in Part 4, you will interpolate the data using a Fourier series / trigonometric functions.  Start by ensuring that you know what size of matrix you should use and the anticipated harmonics.  As well, you must estimate a periodicity for the data points so that you can specify a reasonable wavelength and wavenumber k to include in the functions.  Then, poplulate the matrix with the appropriate values from the trigonometric relations.  Once completed, call use your BackSub(A, b) function from Lab 4 to solve for the polynomial coefficients.  Once determined, the interpolated function can be calculated by the sum of the finite Fourier series.\n",
    "\n",
    "For output, plot the interpolated function from $ x = $ 0 to 9.5, along with the points from the data set.  As well, output the interpolated values for the following $x$-values:\n",
    "\n",
    "1.1, 2.2, 3.3, 4.4, 5.5, 6.6, 7.7, 8.8\n",
    "\n",
    "**QUESTION: Describe how you chose your value for the wavelength / wavenumber.**"
   ]
  },
  {
   "cell_type": "code",
   "execution_count": 10,
   "metadata": {},
   "outputs": [],
   "source": [
    "import math as m \n",
    "#use the function floor to get the fourier pattern"
   ]
  },
  {
   "cell_type": "code",
   "execution_count": 11,
   "metadata": {},
   "outputs": [],
   "source": [
    "k = 2*np.pi/(9 - 1.5) # k value based on the wavelength in part 3\n",
    "\n",
    "# function to determine the coeff for the fourier method\n",
    "def FourCoeff (x,y,k):\n",
    "    A = [] # empty array\n",
    "    \n",
    "    for i in range (len(x)): \n",
    "        A.append([1/2, np.cos(k*x[i]), np.sin(k*x[i]), np.cos(2*k*x[i]), np.sin(2*k*x[i]), np.cos(3*k*x[i]), np.sin(3*k*x[i])])\n",
    "   \n",
    "    A = np.array(np.array(A).reshape((7, 7)))\n",
    "    b = [y]\n",
    "    coeffs = BackSub(A, b) # call the backsub function to solve the array\n",
    "    return coeffs\n",
    "\n",
    "# function to compute the Fourier extrapolated fits\n",
    "def Fourier(x, y, X, k):    \n",
    "    c = FourCoeff(x,y,k) # call the coeff function set to c\n",
    "    #print(\"The coefficients are:\\n\",coeffs) #test print\n",
    "    \n",
    "    fourier = c[0]/2 #declare the inital term\n",
    "    for j in range(1, m.floor((len(x)-1)/2) + 1): # calculate the trigonometric series using the specific fourier pattern\n",
    "        fourier += c[2*j - 1]*np.cos(j*k*X) + c[2*j]*np.sin(j*k*X)\n",
    "        \n",
    "    return fourier\n",
    "    "
   ]
  },
  {
   "cell_type": "code",
   "execution_count": 12,
   "metadata": {},
   "outputs": [
    {
     "data": {
      "image/png": "[encoded data removed]",
      "text/plain": [
       "<Figure size 432x288 with 1 Axes>"
      ]
     },
     "metadata": {
      "needs_background": "light"
     },
     "output_type": "display_data"
    },
    {
     "name": "stdout",
     "output_type": "stream",
     "text": [
      "Interpolation of given points\n",
      "Given x [1.1 2.2 3.3 4.4 5.5 6.6 7.7 8.8]\n",
      "Calculated y [0.00834584 0.05265544 0.14982858 0.30015228 0.15129354 0.03145695\n",
      " 0.03107784 0.01190623] \n",
      "\n"
     ]
    }
   ],
   "source": [
    "# Plot the Spline interpolation with the given data\n",
    "plt.plot(xValues, yValues, 'go', label = \"Given Values\", markersize = 4) # plot the given data set\n",
    "\n",
    "\n",
    "# plot the interpolation Function\n",
    "yPlot = Fourier(xValues,yValues,xPlot,k)\n",
    "plt.plot(xPlot, yPlot, 'c',label = \"Interpolation Function\")\n",
    "\n",
    "interpX = np.array([1.1, 2.2, 3.3, 4.4, 5.5, 6.6, 7.7, 8.8])\n",
    "FourierY = Fourier(xValues, yValues,interpX,k)  # Calculate the y for each x point\n",
    "plt.plot(interpX, FourierY, 'r*', label = \"Interpolation of points\", markersize = 4)\n",
    "\n",
    "plt.title(\"Fourier Series Interpolation for the Given Data set\")      \n",
    "plt.xlabel(\"X Values\")\n",
    "plt.ylabel(\"Y Values\")\n",
    "plt.legend(bbox_to_anchor=(1.0, 0.5)) # putting the legend outside the plot\n",
    "\n",
    "\n",
    "plt.show()\n",
    "\n",
    "\n",
    "print(\"Interpolation of given points\")    # test prints to check that the plot makes sense\n",
    "print(\"Given x\",interpX)\n",
    "print(\"Calculated y\",FourierY,\"\\n\")\n"
   ]
  },
  {
   "cell_type": "code",
   "execution_count": 13,
   "metadata": {},
   "outputs": [],
   "source": [
    "# this plot matches the spline plot from part 3\n",
    "# what would happen if I decreased k?"
   ]
  },
  {
   "cell_type": "code",
   "execution_count": 14,
   "metadata": {},
   "outputs": [
    {
     "data": {
      "image/png": "[encoded data removed]",
      "text/plain": [
       "<Figure size 432x288 with 1 Axes>"
      ]
     },
     "metadata": {
      "needs_background": "light"
     },
     "output_type": "display_data"
    },
    {
     "name": "stdout",
     "output_type": "stream",
     "text": [
      "Interpolation of given points\n",
      "Given x [1.1 2.2 3.3 4.4 5.5 6.6 7.7 8.8]\n",
      "Calculated y [ 0.38590829  0.11636016  0.14261916  0.29799771  0.15496784 -0.03212544\n",
      "  0.27318162  0.17362657] \n",
      "\n"
     ]
    }
   ],
   "source": [
    "# testing the function using a different k value\n",
    "k = 2*np.pi/100\n",
    "\n",
    "# Plot the Spline interpolation with the given data\n",
    "plt.plot(xValues, yValues, 'go', label = \"Given Values\", markersize = 4) # plot the given data set\n",
    "\n",
    "# plot the interpolation Function\n",
    "yPlot = Fourier(xValues,yValues,xPlot,k)\n",
    "plt.plot(xPlot, yPlot, 'c',label = \"Interpolation Function\")\n",
    "\n",
    "interpX = np.array([1.1, 2.2, 3.3, 4.4, 5.5, 6.6, 7.7, 8.8])\n",
    "interpY = Fourier(xValues, yValues,interpX,k)  # Calculate the y for each x point\n",
    "plt.plot(interpX, interpY, 'r*', label = \"Interpolation of points\", markersize = 4)\n",
    "\n",
    "plt.title(\"Fourier Series Interpolation for the Given Data set\")      \n",
    "plt.xlabel(\"X Values\")\n",
    "plt.ylabel(\"Y Values\")\n",
    "plt.legend(bbox_to_anchor=(1.0, 0.5)) # putting the legend outside the plot\n",
    "\n",
    "plt.show()\n",
    "\n",
    "\n",
    "print(\"Interpolation of given points\")    # test prints to check that the plot makes sense\n",
    "print(\"Given x\",interpX)\n",
    "print(\"Calculated y\",interpY,\"\\n\")\n"
   ]
  },
  {
   "cell_type": "code",
   "execution_count": 15,
   "metadata": {},
   "outputs": [],
   "source": [
    "# this returns a plot much more similar to the ones in part 1 and 2\n",
    "# this may imply that the k value from earlier was too large"
   ]
  },
  {
   "cell_type": "markdown",
   "metadata": {},
   "source": [
    "# Part 5\n",
    "\n",
    "None of the interpolation methods was particularly perfect, which is surprising as the function is a fairly simple, symmetric one -- a Lorentzian\n",
    "\n",
    "$\\large Lorentzian(x) = \\frac{1}{\\pi} \\frac{\\Gamma}{(x-x_0)^2 + \\Gamma^2}$\n",
    "\n",
    "The actual, calculated values for the $x$-values\n",
    "\n",
    "1.1, 2.2, 3.3, 4.4, 5.5, 6.6, 7.7, 8.8\n",
    "\n",
    "are\n",
    "\n",
    "0.02677123, 0.05450512, 0.14403162, 0.31830989, 0.14403162, 0.05450512, 0.02677123, 0.01563408\n",
    "\n",
    "\n",
    "Discuss in a short paragraph which interpolation method you find to be the best choice for this Lorentzian function.  You may consider all aspects of the process such as error, usability, time to code, time to run, etc, and not simply the graphical output.  Some calculations to support your answer would also be reasonable."
   ]
  },
  {
   "cell_type": "code",
   "execution_count": 16,
   "metadata": {},
   "outputs": [
    {
     "name": "stdout",
     "output_type": "stream",
     "text": [
      "Standard Deviation of each method:\n",
      " {'Polynomial': 0.170504347160567, 'Lagrange': 0.17050434716209223, 'Cubic Spline': 0.01220355636599183, 'Fourier': 0.012857960891326129}\n",
      "\n",
      "The method witht the smallest standard deviation is: Cubic Spline with a deviation of 0.01220355636599183\n"
     ]
    }
   ],
   "source": [
    "# two things to consider is how accurate each method was, further the deviation from the actual values of the function\n",
    "# secound the run time of the method\n",
    "\n",
    "actY = [0.02677123, 0.05450512, 0.14403162, 0.31830989, 0.14403162, 0.05450512, 0.02677123, 0.01563408]\n",
    "\n",
    "# function to calculate the standard deviation of each function passed, from the actual y values\n",
    "def deviation(y, Ycalc):\n",
    "    d = 0\n",
    "    for a in range(len(y)): \n",
    "        d += (y[a] - Ycalc[a])**2\n",
    "        \n",
    "    deviation = (d/len(y))**0.5\n",
    "    return deviation\n",
    "\n",
    "deviationDict = {\"Polynomial\":deviation(actY, polyY), \"Lagrange\":deviation(actY, LagY), \"Cubic Spline\":deviation(actY, splineY), \"Fourier\":deviation(actY, FourierY)}\n",
    "\n",
    "print(\"Standard Deviation of each method:\\n\",deviationDict)\n",
    "bestDev = min(deviationDict)\n",
    "print(\"\\nThe method witht the smallest standard deviation is:\",bestDev,\"with a deviation of\",deviationDict[bestDev])\n"
   ]
  },
  {
   "cell_type": "code",
   "execution_count": 17,
   "metadata": {},
   "outputs": [],
   "source": [
    "# Now we can test the runtime of each method\n"
   ]
  },
  {
   "cell_type": "code",
   "execution_count": 18,
   "metadata": {},
   "outputs": [
    {
     "name": "stdout",
     "output_type": "stream",
     "text": [
      "The runtime of the Polynomial method:\n",
      "713 µs ± 22.9 µs per loop (mean ± std. dev. of 7 runs, 1000 loops each)\n"
     ]
    }
   ],
   "source": [
    "print(\"The runtime of the Polynomial method:\")\n",
    "%timeit InterpY(xPlot, yValues)"
   ]
  },
  {
   "cell_type": "code",
   "execution_count": 19,
   "metadata": {},
   "outputs": [
    {
     "name": "stdout",
     "output_type": "stream",
     "text": [
      "The runtime of the Lagrangian method:\n",
      "78.6 ms ± 2.06 ms per loop (mean ± std. dev. of 7 runs, 10 loops each)\n"
     ]
    }
   ],
   "source": [
    "print(\"The runtime of the Lagrangian method:\")\n",
    "%timeit interpL(xPlot,xValues, yValues)"
   ]
  },
  {
   "cell_type": "code",
   "execution_count": 30,
   "metadata": {},
   "outputs": [
    {
     "name": "stdout",
     "output_type": "stream",
     "text": [
      "The runtime of the Cubic Spline method:\n",
      "10.7 ms ± 380 µs per loop (mean ± std. dev. of 7 runs, 100 loops each)\n"
     ]
    }
   ],
   "source": [
    "print(\"The runtime of the Cubic Spline method:\")\n",
    "%timeit Spline(xValues, yValues, xPlot)\n"
   ]
  },
  {
   "cell_type": "code",
   "execution_count": 21,
   "metadata": {},
   "outputs": [
    {
     "name": "stdout",
     "output_type": "stream",
     "text": [
      "The runtime of the Fourier method:\n",
      "701 µs ± 35.7 µs per loop (mean ± std. dev. of 7 runs, 1000 loops each)\n"
     ]
    }
   ],
   "source": [
    "k = 2*np.pi/(9-1.5)\n",
    "print(\"The runtime of the Fourier method:\")\n",
    "\n",
    "%timeit Fourier(xValues, yValues, xPlot, k)"
   ]
  },
  {
   "cell_type": "markdown",
   "metadata": {},
   "source": [
    "The two methods of testing which interpolation would be the best fit for the Lorentzian function were the accuracy of the interpolation points using a standard deviation from the actaul values and the run time of each method.\n",
    "\n",
    "The method witht the smallest standard deviation is: Cubic Spline with a deviation of 0.01220355636599183\n",
    "\n",
    "Followed by the Fourier method with a deviation of 0.012857960891326129\n",
    "\n",
    "Next is the run time. The method with the lowest run time is The Polynomial method: 1.09 ms ± 70 µs per loop\n",
    "followed by the Fourier method: 1.29 ms ± 178 µs per loop\n",
    "\n",
    "Therefore if one were to take both of these factors into consideration the fourier method seems to be the best pick.\n",
    "\n",
    "One must also consider factors such as ease of implementation. Although the Fourier method was tricky to get the proper pattern the actual length of conditions for implementation was small making it relivitly ease to program. As well, the Fourier series plots seem to match that of the other methods indicating it is precise and accurate. Therefore, after considering several factors the fourier method is the optimal choice to compute the Lorentzian function."
   ]
  },
  {
   "cell_type": "markdown",
   "metadata": {},
   "source": [
    "## Acknowledgements\n",
    "\n",
    "Please comment on any help that you received from your group members or others concerning this Lab assignment."
   ]
  },
  {
   "cell_type": "markdown",
   "metadata": {},
   "source": [
    "All code was written by Nathan Pacey, with topics discussed with Ekin Yelkin."
   ]
  },
  {
   "cell_type": "markdown",
   "metadata": {},
   "source": []
  }
 ],
 "metadata": {
  "kernelspec": {
   "display_name": "Python 3",
   "language": "python",
   "name": "python3"
  },
  "language_info": {
   "codemirror_mode": {
    "name": "ipython",
    "version": 3
   },
   "file_extension": ".py",
   "mimetype": "text/x-python",
   "name": "python",
   "nbconvert_exporter": "python",
   "pygments_lexer": "ipython3",
   "version": "3.7.6"
  }
 },
 "nbformat": 4,
 "nbformat_minor": 4
}
