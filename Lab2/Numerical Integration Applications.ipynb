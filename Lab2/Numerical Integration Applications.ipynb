{
 "cells": [
  {
   "cell_type": "markdown",
   "metadata": {},
   "source": [
    "# ENPH 213 - Week 2 Lab - Part 6\n",
    "\n",
    "Part 6 of the lab seemed more involved and warranted a new notebook.  Please complete it separately, and rename this notebook to LastName_ENPH213_Lab2-Part6, where LastName is your last name.  Submit this file along with the first notebooks containing Parts 1 through5 to onQ.\n",
    "\n",
    "Of course, please reminder that you are expected to complete your lab using your own code that you have written."
   ]
  },
  {
   "cell_type": "code",
   "execution_count": 1,
   "metadata": {},
   "outputs": [],
   "source": [
    "# Importing the libraries\n",
    "import math as m\n",
    "import numpy as np\n",
    "import cmath as cm\n",
    "from matplotlib import pyplot as plt"
   ]
  },
  {
   "cell_type": "markdown",
   "metadata": {},
   "source": [
    "## Introduction"
   ]
  },
  {
   "cell_type": "markdown",
   "metadata": {},
   "source": [
    "In keeping with the theme of magnetics, the goal here is to calculate the force between two cylindrical magnets as part of the design of a magnetic levitation system.  As a first step, you will use the following expression, which gives the magnetic field at location $(x_1, y_1, z_1)$ due to a cylindrical magnet centred on the $z$-axis with its base in the $x-y$ plane.\n",
    "\n",
    "$\\Large B(x_1, y_1, z_1) = \\frac{\\mu_o}{4 \\pi} {\\displaystyle \\int_0^D \\int_0^{2 \\pi}} \\frac{\\vec K \\times \\vec r}{|r|^3} R d\\phi dz$"
   ]
  },
  {
   "cell_type": "markdown",
   "metadata": {},
   "source": [
    "which you may recognize as Biot-Savart's Law.  In this equation, the magnet has a thickness $D$, radius $R$, and uniform magnetization parallel to the z-axis. The magnetization produces a uniform bound surface current $\\vec K$ on the outside surface of the cylinder flowing in the $\\hat\\phi$-direction, which is the angular direction around the circular magnet.  It is this bound surface current on the edge of the cylindrical magnetic that is responsible for the magnetic field produced by the magnet.  The above equation for the magnetic field is written using Griffith’s notation, where $r$ is the separation vector from the points where the current is located to where we are evaluating the field:\n",
    "\n",
    "$\\Large \\vec r = (x_1 - R\\cos\\phi)\\hat x + (y_1 - R\\sin\\phi)\\hat y + (z_1 - z)\\hat z$"
   ]
  },
  {
   "cell_type": "markdown",
   "metadata": {},
   "source": [
    "where $R$, $\\phi$, and $z$ are where on the cylinder the surface current is flowing that we are considering.  Similarly, the vectorized surface current density can be written as:\n",
    "\n",
    "$\\Large \\vec K = K (-\\sin\\phi~\\hat x + \\cos \\phi~\\hat y)$"
   ]
  },
  {
   "cell_type": "markdown",
   "metadata": {},
   "source": [
    "By expressing the separation vector and surface current density using unit vectors in Cartesian \n",
    "coordinates, you can break the vector integral into three scalar integrals, one for each component of the \n",
    "magnetic field.  For example, the $x$-component of the magnetic field $B_x$ can be expressed as a ordinary \n",
    "double integral of a scalar function of the $\\hat x$-term in Biot-Savart's Law, which we can call BiotSavX$(x_1,y_1,z_1,\\phi,z)$.  $B_x$ will then have the integral form:\n",
    "\n",
    "$\\Large B_x (x_1, y_1, z_1) = {\\displaystyle \\int_0^D \\int_0^{2 \\pi}} \\textrm{BiotSavX}(x_1,y_1,z_1,\\phi,z) d\\phi dz$\n",
    "\n",
    "where\n",
    "\n",
    "$\\Large \\textrm{BiotSavX}(x_1,y_1,z_1,\\phi,z) = \\frac{\\mu_o R}{4 \\pi |r|^3} (\\vec K \\times \\vec r) \\cdot \\hat x$ "
   ]
  },
  {
   "cell_type": "markdown",
   "metadata": {},
   "source": [
    "Rather than using a numerical cross product and then an inner (dot) product with $\\hat x$, it is easier to do the $\\hat x$ operatio manually, which then just requires you to calculate the $x$-component of the cross product.  This term simply reduced to $K_y r_z - K_z r_y$, where the $K$ and $r$ components cane be seen in the above equations:\n",
    "$ K_y = K \\cos \\phi \\\\\n",
    "K_z = 0 \\\\\n",
    "r_y = y_1-R\\sin\\phi \\\\\n",
    "r_z = z_1 - z$"
   ]
  },
  {
   "cell_type": "markdown",
   "metadata": {},
   "source": [
    "## Part 6.1\n",
    "\n",
    "Create your scalar functions for each of the componets of the Biot-Savart integral.  In particular, create functions for each of BiotSavX, BiotSavY, and BiotSavZ.  Use the following input values:\n",
    "\n",
    "$ R=0.025~m \\\\ K=0.95 \\times 10^6~A/m \\\\ \\mu_o = 4 \\pi \\times 10^{-7}~N/A^2$\n",
    "\n",
    "Using the follwing values as input:\n",
    "\n",
    "$x_1=0.01~m, y_1=0.02~m, z_1=0.03~m, \\phi=\\pi/6, z=0.05~m$\n",
    "\n",
    "My code gave an output of:\n",
    "\n",
    "BiotSavX(0.01,0.02,0.03,$\\pi/6$,0.05) = -2.85598\n",
    "\n",
    "BiotSavY(0.01,0.02,0.03,$\\pi/6$,0.05) = -1.64890\n",
    "\n",
    "BiotSavZ(0.01,0.02,0.03,$\\pi/6$,0.05) =  1.04536\n",
    " \n",
    "Once you are getting correct values for BiotSavX, BiotSavY, and BiotSavZ, put them all together in a function called \n",
    "BiotSav$(x_1,y_1,z_1,\\phi,z)$ that outputs an array of [BiotSavX, BiotSavY, BiotSavZ].\n",
    "\n",
    "Note, it is important to consider that the functions are vectorized and can process arrays.  It is therefore important to use the Numpy functions appropriately."
   ]
  },
  {
   "cell_type": "code",
   "execution_count": 2,
   "metadata": {},
   "outputs": [],
   "source": [
    "# given values for input\n",
    "R = 0.025 #meters\n",
    "K = 0.95*10**6 #A/m\n",
    "mu = 4*np.pi*10**(-7) #N/A^2\n",
    "\n",
    "x1 = 0.01 #m\n",
    "y1 = 0.02 #m\n",
    "z1 = 0.03 #m\n",
    "phi = np.pi/6 #rad\n",
    "z = 0.05 #m"
   ]
  },
  {
   "cell_type": "code",
   "execution_count": 3,
   "metadata": {},
   "outputs": [],
   "source": [
    "# Given relations from the question\n",
    "Ky = K*np.cos(phi)\n",
    "Kz = 0\n",
    "Kx = -K*np.sin(phi)\n",
    "\n",
    "ry = y1 - R*np.sin(phi)\n",
    "rz = z1 - z\n",
    "rx = x1-R*np.cos(phi)\n",
    "\n",
    "rmag = np.sqrt(ry**2 + rz**2 + rx**2) #magnitude of the r vector\n",
    "\n",
    "K_vector = [Kx, Ky, Kz]\n",
    "r_vector = [rx, ry, rz]"
   ]
  },
  {
   "cell_type": "markdown",
   "metadata": {},
   "source": [
    "$\\Large \\textrm{BiotSavX}(x_1,y_1,z_1,\\phi,z) = \\frac{\\mu_o R}{4 \\pi |r|^3} (\\vec K \\times \\vec r) \\cdot \\hat x$ \n",
    "\n",
    "$\\Large \\textrm{BiotSavY}(x_1,y_1,z_1,\\phi,z) = \\frac{\\mu_o R}{4 \\pi |r|^3} (\\vec K \\times \\vec r) \\cdot \\hat y$ \n",
    "\n",
    "$\\Large \\textrm{BiotSavZ}(x_1,y_1,z_1,\\phi,z) = \\frac{\\mu_o R}{4 \\pi |r|^3} (\\vec K \\times \\vec r) \\cdot \\hat z$ "
   ]
  },
  {
   "cell_type": "code",
   "execution_count": 57,
   "metadata": {},
   "outputs": [
    {
     "name": "stdout",
     "output_type": "stream",
     "text": [
      "The Biot-Savart's Law in X is [-2.85598327]\n",
      "The Biot-Savart's Law in Y is [-1.64890271]\n",
      "The Biot-Savart's Law in Z is [1.04536243]\n",
      "\n",
      "The vector for BiotSav is [-2.8559832672799326, -1.6489027081651355, 1.045362428607738]\n"
     ]
    }
   ],
   "source": [
    "#uses the given equations for BioSav\n",
    "def BiotSav(x1, y1, z1, phi, z):\n",
    "    \n",
    "    #calculating the BiotSav for X Y Z\n",
    "    \n",
    "    BiotSavX = (mu*R)/(4*np.pi*rmag**3)*np.dot([np.cross(K_vector,r_vector)],[1,0,0])\n",
    "    print(\"The Biot-Savart's Law in X is\", BiotSavX)\n",
    "    \n",
    "    BiotSavY = (mu*R)/(4*np.pi*rmag**3)*np.dot([np.cross(K_vector,r_vector)],[0,1,0])\n",
    "    print(\"The Biot-Savart's Law in Y is\", BiotSavY)\n",
    "    \n",
    "    BiotSavZ = (mu*R)/(4*np.pi*rmag**3)*np.dot([np.cross(K_vector,r_vector)],[0,0,1])\n",
    "    print(\"The Biot-Savart's Law in Z is\", BiotSavZ)\n",
    "    array = [BiotSavX[0], BiotSavY[0], BiotSavZ[0]]\n",
    "    return array\n",
    "\n",
    "print(\"\\nThe vector for BiotSav is\", BiotSav(x1, y1, z1, phi, z))"
   ]
  },
  {
   "cell_type": "markdown",
   "metadata": {},
   "source": [
    "## Part 6.2\n",
    "\n",
    "Next, write a function that evaluates the three components $[B_x,B_y,B_z]$ of the magnetic field at the point $(x_1,y_1,z_1)$ by performing the numerical integration of the Biot Savart Law.  For this part, use the dimensions of the magnet $R=0.025~m$ and $D=0.05~m$. \n",
    "\n",
    "Use the linspace function from Numpy to create 2D arrays for the $\\phi$ and z-coordinates over which you will be integrating.  Note from the integrals, $0 \\leq \\phi \\leq 2\\pi$ and $0 \\leq z \\leq D$.  Use the Weigthing Arrays for Simpson's Rule, calculate each term of the integral (ie., $B_x$, $B_y$, and $B_z$) separately.  For the $\\phi$ and $z$ arrays, identify which ones occupy which coordinate axis in the arrays and remember to define their step sizes (hphi and hz). To check your answer, using N=11 along each axis and $x_1$ = 0.03, $y_1$ = 0.02, and $z_1$= 0.01 (m), my code gave:\n",
    "\n",
    "$B_x = -0.09344 \\\\\n",
    "B_y = -0.06362 \\\\\n",
    "B_z = -0.19007 $\n"
   ]
  },
  {
   "cell_type": "code",
   "execution_count": 58,
   "metadata": {},
   "outputs": [
    {
     "name": "stdout",
     "output_type": "stream",
     "text": [
      "\tThe array of values\n",
      "\tPhi\t\tZ\n",
      " [[0.00000000e+00 0.00000000e+00]\n",
      " [6.28318531e-01 5.00000000e-03]\n",
      " [1.25663706e+00 1.00000000e-02]\n",
      " [1.88495559e+00 1.50000000e-02]\n",
      " [2.51327412e+00 2.00000000e-02]\n",
      " [3.14159265e+00 2.50000000e-02]\n",
      " [3.76991118e+00 3.00000000e-02]\n",
      " [4.39822972e+00 3.50000000e-02]\n",
      " [5.02654825e+00 4.00000000e-02]\n",
      " [5.65486678e+00 4.50000000e-02]\n",
      " [6.28318531e+00 5.00000000e-02]]\n"
     ]
    }
   ],
   "source": [
    "#Given Values\n",
    "R = 0.025 #m\n",
    "D = 0.05 #m\n",
    "N = 11\n",
    "\n",
    "x1 = 0.03 #m\n",
    "y1 = 0.02 #m\n",
    "z1 = 0.01 #m\n",
    "\n",
    "mu = 4*np.pi*10**(-7) #N/A^2\n",
    "\n",
    "phi_low = 0          #Setting the Bounds\n",
    "phi_high = np.pi*2\n",
    "\n",
    "#calc widths\n",
    "hphi = (phi_high-phi_low)/(N-1) # N points gives N-1 regions\n",
    "\n",
    "hz = ((D-0)/(N-1)) # same as hPhi but with z\n",
    "\n",
    "# create a set of points within limits\n",
    "phiRange = np.linspace(phi_low,phi_high,N) #points for phi\n",
    "zRange = np.linspace(0,D,N)                #points for z\n",
    "\n",
    "phiPoints , zPoints = np.meshgrid(phiRange, zRange)\n",
    "\n",
    "array2D = np.linspace(start=[phi_low,0],stop=[phi_high,D], num = N)  # 2D array of points\n",
    "\n",
    "print(\"\\tThe array of values\\n\\tPhi\\t\\tZ\\n\",array2D) #displays the array\n"
   ]
  },
  {
   "cell_type": "markdown",
   "metadata": {},
   "source": [
    "## We were given the relation\n",
    "$\\Large B_x (x_1, y_1, z_1) = {\\displaystyle \\int_0^D \\int_0^{2 \\pi}} \\textrm{BiotSavX}(x_1,y_1,z_1,\\phi,z) d\\phi dz$\n",
    "### Can use the equation from 6.1"
   ]
  },
  {
   "cell_type": "code",
   "execution_count": 30,
   "metadata": {},
   "outputs": [],
   "source": [
    "#uses the given equations for BioSav\n",
    "# the functions use many similar operations to 6.1\n",
    "\n",
    "def BiotSavX(phi,z):\n",
    "    \n",
    "    Ky = K*np.cos(phi)\n",
    "    Kz = 0\n",
    "    Kx = -K*np.sin(phi)\n",
    "\n",
    "    ry = y1 - R*np.sin(phi)\n",
    "    rz = z1 - z\n",
    "    rx = x1-R*np.cos(phi)\n",
    "\n",
    "    rmag = np.sqrt(ry**2 + rz**2 + rx**2)\n",
    "    # given relation for x\n",
    "    cross_x = Ky*rz\n",
    "\n",
    "    BiotSavX = (mu*R)/(4*np.pi*rmag**3)*cross_x\n",
    "    #print(\"\\nBiotSavX\",BiotSavX)\n",
    "    \n",
    "    return BiotSavX\n",
    "\n",
    "def BiotSavY(phi,z):\n",
    "    \n",
    "    Ky = K*np.cos(phi)\n",
    "    Kz = 0\n",
    "    Kx = -K*np.sin(phi)\n",
    "\n",
    "    ry = y1 - R*np.sin(phi)\n",
    "    rz = z1 - z\n",
    "    rx = x1-R*np.cos(phi)\n",
    "\n",
    "    rmag = np.sqrt(ry**2 + rz**2 + rx**2)\n",
    "    #cross prod for y\n",
    "    cross_y = -Kx*rz\n",
    "\n",
    "    BiotSavY = (mu*R)/(4*np.pi*rmag**3)*cross_y\n",
    "    #print(\"\\nBiotSavY\",BiotSavY)\n",
    "    \n",
    "    return BiotSavY\n",
    "\n",
    "def BiotSavZ(phi,z):\n",
    "    \n",
    "    Ky = K*np.cos(phi)\n",
    "    Kz = 0\n",
    "    Kx = -K*np.sin(phi)\n",
    "\n",
    "    ry = y1 - R*np.sin(phi)\n",
    "    rz = z1 - z\n",
    "    rx = x1-R*np.cos(phi)\n",
    "\n",
    "    rmag = np.sqrt(ry**2 + rz**2 + rx**2)\n",
    "    #cross prod for Z\n",
    "    cross_z = Kx*ry-Ky*rx\n",
    "\n",
    "    BiotSavZ = (mu*R)/(4*np.pi*rmag**3)*cross_z\n",
    "    #print(\"\\nBiotSavZ\",BiotSavZ)\n",
    "    \n",
    "    return BiotSavZ\n"
   ]
  },
  {
   "cell_type": "code",
   "execution_count": 23,
   "metadata": {},
   "outputs": [
    {
     "name": "stdout",
     "output_type": "stream",
     "text": [
      "The Weighted Array\n",
      " [[ 1.  4.  2.  4.  2.  4.  2.  4.  2.  4.  1.]\n",
      " [ 4. 16.  8. 16.  8. 16.  8. 16.  8. 16.  4.]\n",
      " [ 2.  8.  4.  8.  4.  8.  4.  8.  4.  8.  2.]\n",
      " [ 4. 16.  8. 16.  8. 16.  8. 16.  8. 16.  4.]\n",
      " [ 2.  8.  4.  8.  4.  8.  4.  8.  4.  8.  2.]\n",
      " [ 4. 16.  8. 16.  8. 16.  8. 16.  8. 16.  4.]\n",
      " [ 2.  8.  4.  8.  4.  8.  4.  8.  4.  8.  2.]\n",
      " [ 4. 16.  8. 16.  8. 16.  8. 16.  8. 16.  4.]\n",
      " [ 2.  8.  4.  8.  4.  8.  4.  8.  4.  8.  2.]\n",
      " [ 4. 16.  8. 16.  8. 16.  8. 16.  8. 16.  4.]\n",
      " [ 1.  4.  2.  4.  2.  4.  2.  4.  2.  4.  1.]]\n"
     ]
    }
   ],
   "source": [
    "#Need the weighted array\n",
    "newWeights = np.ones(N) # weight vector with ones\n",
    "newWeights[1:N:2] = 4 # adding 4's 1, 3, 5\n",
    "newWeights[2:-2:2] = 2 # Adding 2's in the array \n",
    "newWeights = np.outer(newWeights,newWeights) # expands the dimension of the array (2D)\n",
    "print(\"The Weighted Array\\n\",newWeights) #displays array"
   ]
  },
  {
   "cell_type": "code",
   "execution_count": 56,
   "metadata": {},
   "outputs": [
    {
     "name": "stdout",
     "output_type": "stream",
     "text": [
      "\n",
      "The double BX integral is -0.09343631807138224\n",
      "\n",
      "The double BY integral is -0.06361657773379946\n",
      "\n",
      "The double BZ integral is -0.19006951631897429\n"
     ]
    }
   ],
   "source": [
    "# Calling the functions with the generated points\n",
    "FpointsX = (BiotSavX(phiPoints, zPoints)) \n",
    "FpointsY = (BiotSavY(phiPoints, zPoints))\n",
    "FpointsZ = (BiotSavZ(phiPoints, zPoints))\n",
    "\n",
    "\n",
    "intgX = (hphi*hz)/9*np.sum(FpointsX*newWeights) #multiply points by weight and take dot prod times the widths\n",
    "\n",
    "intgY = (hphi*hz)/9*np.sum(FpointsY*newWeights) #multiply points by weight and take dot prod times the widths\n",
    "\n",
    "intgZ = (hphi*hz)/9*np.sum(FpointsZ*newWeights) #multiply points by weight and take dot prod times the widths\n",
    "\n",
    "print(\"\\nThe double BX integral is\",intgX) # final statement X\n",
    "print(\"\\nThe double BY integral is\",intgY) # final statement Y\n",
    "print(\"\\nThe double BZ integral is\",intgZ) # final statement Z"
   ]
  },
  {
   "cell_type": "markdown",
   "metadata": {},
   "source": [
    "## Part 6.3\n",
    "\n",
    "You should now be ready to calculate the force between two cylindrical magnets. Assume that the first magnet sits with its base in the $x-y$ plane and is centred on the z-axis, which is what we have calculated above.  Then, assume that a second, identical cylindrical magnet is placed directly above the first so that the bottom face of the top magnet is a \n",
    "distance $d$ above the top face of the bottom magnet (ie., the air gap between the magnets is d). You can the use the Lorentz force law to calculate the force exerted on the second magnet. The expression is given by:\n",
    "\n",
    "$\\Large \\vec F (d) = {\\displaystyle \\int_{D+d}^{2D+d} \\int_0^{2 \\pi}} \\vec K \\times \\vec B\\ R d\\phi dz$\n"
   ]
  },
  {
   "cell_type": "markdown",
   "metadata": {},
   "source": [
    "Here, $\\vec B$ is the magnetic field produced by the first magnet (on the bottom) on the surface of the second magnet, and $\\vec K$ is the current density on the surface of the second magnet (top). Note that the limits of $z$ go from $D+d$ to $2D+d$.  The expression for $\\vec K$ on the surface of the top magnet is:\n",
    "\n",
    "$\\Large \\vec K = -K (-\\sin\\phi~\\hat x + \\cos \\phi~\\hat y)$\n",
    "\n",
    "where the sign of $\\vec K$ has been changed compared to the first magnet. If not, the magnetic fields of the two magnets would be aligned, and the force would be attractive, which would not be very useful for magnetic levitation."
   ]
  },
  {
   "cell_type": "markdown",
   "metadata": {},
   "source": [
    "You will be able to use the code and functions above in the Jupyter Notebook (from 6.1 and 6.2), which will allow you to calculate the magnetic field produced by the bottom magnet at each location on the surface of the top magnet. On the surface (the outer round surface where the surface current is) of the top magnet, it is easy to show that $x = R\\cos(\\phi)$ and $y=R\\sin(\\phi)$, so the magnetic field is evaluated at $(R\\cos(\\phi), R\\sin(\\phi), z)$, where $0 \\leq \\phi \\leq 2\\pi$ and $D+d \\leq z \\leq 2D+d$. To evaluate this new integral, you can create the arrays using the techniques implemented above for the $\\phi$ and $z$ variables.  However, you may want to use a nested for loop to calculate each point by first calculating $\\vec B$ and then using that to calculate the contributing element to the force."
   ]
  },
  {
   "cell_type": "code",
   "execution_count": 54,
   "metadata": {},
   "outputs": [],
   "source": [
    "#New Function for Magnetic Field\n",
    "def magField(x1,y1,z1):\n",
    "    #same relations from 6.2/6.2\n",
    "    Ky = K*np.cos(phi)\n",
    "    Kz = 0\n",
    "    Kx = -K*np.sin(phi)\n",
    "\n",
    "    ry = y1 - R*np.sin(phi)\n",
    "    rz = z1 - z\n",
    "    rx = x1-R*np.cos(phi)\n",
    "\n",
    "    rmag = np.sqrt(ry**2 + rz**2 + rx**2)\n",
    "    \n",
    "    cross_x = Ky*rz\n",
    "    BiotSavX = (mu*R)/(4*np.pi*rmag**3)*cross_x\n",
    "    \n",
    "    cross_y = -Kx*rz\n",
    "    BiotSavY = (mu*R)/(4*np.pi*rmag**3)*cross_y\n",
    "    \n",
    "    cross_z = Kx*ry-Ky*rx\n",
    "    BiotSavZ = (mu*R)/(4*np.pi*rmag**3)*cross_z\n",
    "    \n",
    "    magField = [BiotSavX, BiotSavY, BiotSavZ] #returns the array of x,y,z values for the magField\n",
    "    return magField\n",
    "\n",
    "#print(magField(x1,y1,z1)) #test print\n"
   ]
  },
  {
   "cell_type": "code",
   "execution_count": 55,
   "metadata": {},
   "outputs": [
    {
     "name": "stdout",
     "output_type": "stream",
     "text": [
      "\tThe Force vector is\n",
      " [ 386.08513188  273.54071929 9033.53648261]\n"
     ]
    }
   ],
   "source": [
    "# d = 0.005 m, this was a correction to the lab\n",
    "\n",
    "#Main function to get the force vector\n",
    "def force(d):\n",
    "    #Given Values\n",
    "    D = 0.05\n",
    "    N = 11\n",
    "    phi_low = 0          #Setting the Bounds\n",
    "    phi_high = np.pi*2\n",
    "\n",
    "    #calc widths\n",
    "    hphi = (phi_high-phi_low)/(N-1) # N points gives N-1 regions\n",
    "\n",
    "    hz = ((D-0)/(N-1)) # same as hPhi but with z\n",
    "\n",
    "    # create a set of points within limits\n",
    "    phiRange = np.linspace(phi_low,phi_high,N) #points for phi\n",
    "    zRange = np.linspace(D+d,2*D + d,N)                #points for z\n",
    "\n",
    "    phiPoints , zPoints = np.meshgrid(phiRange, zRange)\n",
    "    \n",
    "    newWeights = np.ones(N) # weight vector with ones\n",
    "    newWeights[1:N:2] = 4 # adding 4's 1, 3, 5\n",
    "    newWeights[2:-2:2] = 2 # Adding 2's in the array \n",
    "    newWeights = np.outer(newWeights,newWeights) # expands the dimension of the array (2D)\n",
    "    \n",
    "    valueArray = np.ones((11,11,3)) # 11, 3 x 11 arrays of ones\n",
    "    \n",
    "    #need the nested for loop operations\n",
    "    for i in range(N):\n",
    "        for a in range(N):\n",
    "            \n",
    "            # magnetic field with the given relations for x,y,z\n",
    "            B = magField(R*np.cos(phiRange[i]), R*np.sin(phiRange[i]), zRange[a]) \n",
    "            \n",
    "            # k array with given relations and specify the float\n",
    "            k = -K*np.array([-np.sin(phiRange[i]), np.cos(phiRange[i]), 0], dtype = float)\n",
    "            \n",
    "            # mul the value Array by the cross of K x B and R * weighted matirx\n",
    "            valueArray[i,a] = np.cross(k,B)*newWeights[i,a]*R\n",
    "   \n",
    "    # Mul the array by the widths/9      \n",
    "    valueArray *= hphi*hz/9\n",
    "    \n",
    "    return valueArray.sum((0,1))\n",
    "    \n",
    "print(\"\\tThe Force vector is\\n\",force(0.005)) #send the force func d\n"
   ]
  },
  {
   "cell_type": "markdown",
   "metadata": {},
   "source": [
    "## Acknowledgements\n",
    "Although I wrote all the code in this lab myself I discussed the problems of this portion with the following students:\n",
    "Ekin Yelken, Stuart Gaherty and Connor Legg"
   ]
  }
 ],
 "metadata": {
  "kernelspec": {
   "display_name": "Python 3",
   "language": "python",
   "name": "python3"
  },
  "language_info": {
   "codemirror_mode": {
    "name": "ipython",
    "version": 3
   },
   "file_extension": ".py",
   "mimetype": "text/x-python",
   "name": "python",
   "nbconvert_exporter": "python",
   "pygments_lexer": "ipython3",
   "version": "3.7.6"
  }
 },
 "nbformat": 4,
 "nbformat_minor": 4
}
